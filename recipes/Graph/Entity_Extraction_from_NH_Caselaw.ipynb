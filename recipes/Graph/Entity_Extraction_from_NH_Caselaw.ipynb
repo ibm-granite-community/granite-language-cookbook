{
 "cells": [
  {
   "attachments": {},
   "cell_type": "markdown",
   "metadata": {
    "pycharm": {
     "name": "#%% md\n"
    }
   },
   "source": [
    "# Entity Extraction from New Hampshire Case Law\n",
    "*With IBM Granite Models*\n",
    "\n",
    "The [New Hampshire Case Law Dataset](https://huggingface.co/datasets/free-law/nh) comes from the Caselaw Access Project via Hugging Face."
   ]
  },
  {
   "cell_type": "markdown",
   "metadata": {
    "jupyter": {
     "outputs_hidden": false
    },
    "pycharm": {
     "name": "#%% md\n"
    }
   },
   "source": [
    "## In this notebook\n",
    "This notebook contains instructions for performing entity extraction."
   ]
  },
  {
   "cell_type": "markdown",
   "metadata": {},
   "source": [
    "## Prerequisites\n",
    "\n",
    "To get started, you'll need:\n",
    "* A [Replicate account](https://replicate.com/) and API token."
   ]
  },
  {
   "cell_type": "markdown",
   "metadata": {
    "jupyter": {
     "outputs_hidden": false
    },
    "pycharm": {
     "name": "#%% md\n"
    }
   },
   "source": [
    "## Setting up the environment"
   ]
  },
  {
   "cell_type": "markdown",
   "metadata": {
    "jupyter": {
     "outputs_hidden": false
    },
    "pycharm": {
     "name": "#%% md\n"
    }
   },
   "source": [
    "### Install dependencies\n",
    "\n",
    "Granite Kitchen comes with a bundle of dependencies that are required for notebooks. See the list of packages in its [`setup.py`](https://github.com/ibm-granite-community/granite-kitchen/blob/main/setup.py). "
   ]
  },
  {
   "cell_type": "code",
   "execution_count": 1,
   "metadata": {
    "jupyter": {
     "outputs_hidden": false
    },
    "pycharm": {
     "name": "#%%\n"
    }
   },
   "outputs": [
    {
     "name": "stdout",
     "output_type": "stream",
     "text": [
      "Collecting git+https://github.com/ibm-granite-community/utils\n",
      "  Cloning https://github.com/ibm-granite-community/utils to /private/var/folders/nc/jrql4k0n2j73h7xktzxdr4pr0000gn/T/pip-req-build-2p_unsvs\n",
      "  Running command git clone --filter=blob:none --quiet https://github.com/ibm-granite-community/utils /private/var/folders/nc/jrql4k0n2j73h7xktzxdr4pr0000gn/T/pip-req-build-2p_unsvs\n",
      "  Resolved https://github.com/ibm-granite-community/utils to commit a4b663310cdc11be2f3039a11d263dae98584582\n",
      "  Installing build dependencies ... \u001b[?25ldone\n",
      "\u001b[?25h  Getting requirements to build wheel ... \u001b[?25ldone\n",
      "\u001b[?25h  Preparing metadata (pyproject.toml) ... \u001b[?25ldone\n",
      "\u001b[?25hRequirement already satisfied: langchain_community<0.3.0 in /Users/fayvor/Dev/granite-legal-cookbook/.venv/lib/python3.10/site-packages (0.2.17)\n",
      "Requirement already satisfied: replicate in /Users/fayvor/Dev/granite-legal-cookbook/.venv/lib/python3.10/site-packages (1.0.1)\n",
      "Requirement already satisfied: datasets in /Users/fayvor/Dev/granite-legal-cookbook/.venv/lib/python3.10/site-packages (3.0.1)\n",
      "Requirement already satisfied: transformers in /Users/fayvor/Dev/granite-legal-cookbook/.venv/lib/python3.10/site-packages (4.45.2)\n",
      "Requirement already satisfied: tiktoken in /Users/fayvor/Dev/granite-legal-cookbook/.venv/lib/python3.10/site-packages (0.8.0)\n",
      "Requirement already satisfied: python-dotenv in /Users/fayvor/Dev/granite-legal-cookbook/.venv/lib/python3.10/site-packages (from ibm_granite_community==0.1.0) (1.0.1)\n",
      "Requirement already satisfied: PyYAML>=5.3 in /Users/fayvor/Dev/granite-legal-cookbook/.venv/lib/python3.10/site-packages (from langchain_community<0.3.0) (6.0.2)\n",
      "Requirement already satisfied: SQLAlchemy<3,>=1.4 in /Users/fayvor/Dev/granite-legal-cookbook/.venv/lib/python3.10/site-packages (from langchain_community<0.3.0) (2.0.35)\n",
      "Requirement already satisfied: aiohttp<4.0.0,>=3.8.3 in /Users/fayvor/Dev/granite-legal-cookbook/.venv/lib/python3.10/site-packages (from langchain_community<0.3.0) (3.10.9)\n",
      "Requirement already satisfied: dataclasses-json<0.7,>=0.5.7 in /Users/fayvor/Dev/granite-legal-cookbook/.venv/lib/python3.10/site-packages (from langchain_community<0.3.0) (0.6.7)\n",
      "Requirement already satisfied: langchain<0.3.0,>=0.2.16 in /Users/fayvor/Dev/granite-legal-cookbook/.venv/lib/python3.10/site-packages (from langchain_community<0.3.0) (0.2.16)\n",
      "Requirement already satisfied: langchain-core<0.3.0,>=0.2.39 in /Users/fayvor/Dev/granite-legal-cookbook/.venv/lib/python3.10/site-packages (from langchain_community<0.3.0) (0.2.41)\n",
      "Requirement already satisfied: langsmith<0.2.0,>=0.1.112 in /Users/fayvor/Dev/granite-legal-cookbook/.venv/lib/python3.10/site-packages (from langchain_community<0.3.0) (0.1.133)\n",
      "Requirement already satisfied: numpy<2,>=1 in /Users/fayvor/Dev/granite-legal-cookbook/.venv/lib/python3.10/site-packages (from langchain_community<0.3.0) (1.26.4)\n",
      "Requirement already satisfied: requests<3,>=2 in /Users/fayvor/Dev/granite-legal-cookbook/.venv/lib/python3.10/site-packages (from langchain_community<0.3.0) (2.32.3)\n",
      "Requirement already satisfied: tenacity!=8.4.0,<9.0.0,>=8.1.0 in /Users/fayvor/Dev/granite-legal-cookbook/.venv/lib/python3.10/site-packages (from langchain_community<0.3.0) (8.5.0)\n",
      "Requirement already satisfied: httpx<1,>=0.21.0 in /Users/fayvor/Dev/granite-legal-cookbook/.venv/lib/python3.10/site-packages (from replicate) (0.27.2)\n",
      "Requirement already satisfied: packaging in /Users/fayvor/Dev/granite-legal-cookbook/.venv/lib/python3.10/site-packages (from replicate) (24.1)\n",
      "Requirement already satisfied: pydantic>1.10.7 in /Users/fayvor/Dev/granite-legal-cookbook/.venv/lib/python3.10/site-packages (from replicate) (2.9.2)\n",
      "Requirement already satisfied: typing-extensions>=4.5.0 in /Users/fayvor/Dev/granite-legal-cookbook/.venv/lib/python3.10/site-packages (from replicate) (4.12.2)\n",
      "Requirement already satisfied: filelock in /Users/fayvor/Dev/granite-legal-cookbook/.venv/lib/python3.10/site-packages (from datasets) (3.16.1)\n",
      "Requirement already satisfied: pyarrow>=15.0.0 in /Users/fayvor/Dev/granite-legal-cookbook/.venv/lib/python3.10/site-packages (from datasets) (17.0.0)\n",
      "Requirement already satisfied: dill<0.3.9,>=0.3.0 in /Users/fayvor/Dev/granite-legal-cookbook/.venv/lib/python3.10/site-packages (from datasets) (0.3.8)\n",
      "Requirement already satisfied: pandas in /Users/fayvor/Dev/granite-legal-cookbook/.venv/lib/python3.10/site-packages (from datasets) (2.1.4)\n",
      "Requirement already satisfied: tqdm>=4.66.3 in /Users/fayvor/Dev/granite-legal-cookbook/.venv/lib/python3.10/site-packages (from datasets) (4.66.5)\n",
      "Requirement already satisfied: xxhash in /Users/fayvor/Dev/granite-legal-cookbook/.venv/lib/python3.10/site-packages (from datasets) (3.5.0)\n",
      "Requirement already satisfied: multiprocess in /Users/fayvor/Dev/granite-legal-cookbook/.venv/lib/python3.10/site-packages (from datasets) (0.70.16)\n",
      "Requirement already satisfied: fsspec<=2024.6.1,>=2023.1.0 in /Users/fayvor/Dev/granite-legal-cookbook/.venv/lib/python3.10/site-packages (from fsspec[http]<=2024.6.1,>=2023.1.0->datasets) (2024.6.1)\n",
      "Requirement already satisfied: huggingface-hub>=0.22.0 in /Users/fayvor/Dev/granite-legal-cookbook/.venv/lib/python3.10/site-packages (from datasets) (0.25.2)\n",
      "Requirement already satisfied: regex!=2019.12.17 in /Users/fayvor/Dev/granite-legal-cookbook/.venv/lib/python3.10/site-packages (from transformers) (2024.9.11)\n",
      "Requirement already satisfied: safetensors>=0.4.1 in /Users/fayvor/Dev/granite-legal-cookbook/.venv/lib/python3.10/site-packages (from transformers) (0.4.5)\n",
      "Requirement already satisfied: tokenizers<0.21,>=0.20 in /Users/fayvor/Dev/granite-legal-cookbook/.venv/lib/python3.10/site-packages (from transformers) (0.20.1)\n",
      "Requirement already satisfied: aiohappyeyeballs>=2.3.0 in /Users/fayvor/Dev/granite-legal-cookbook/.venv/lib/python3.10/site-packages (from aiohttp<4.0.0,>=3.8.3->langchain_community<0.3.0) (2.4.3)\n",
      "Requirement already satisfied: aiosignal>=1.1.2 in /Users/fayvor/Dev/granite-legal-cookbook/.venv/lib/python3.10/site-packages (from aiohttp<4.0.0,>=3.8.3->langchain_community<0.3.0) (1.3.1)\n",
      "Requirement already satisfied: attrs>=17.3.0 in /Users/fayvor/Dev/granite-legal-cookbook/.venv/lib/python3.10/site-packages (from aiohttp<4.0.0,>=3.8.3->langchain_community<0.3.0) (24.2.0)\n",
      "Requirement already satisfied: frozenlist>=1.1.1 in /Users/fayvor/Dev/granite-legal-cookbook/.venv/lib/python3.10/site-packages (from aiohttp<4.0.0,>=3.8.3->langchain_community<0.3.0) (1.4.1)\n",
      "Requirement already satisfied: multidict<7.0,>=4.5 in /Users/fayvor/Dev/granite-legal-cookbook/.venv/lib/python3.10/site-packages (from aiohttp<4.0.0,>=3.8.3->langchain_community<0.3.0) (6.1.0)\n",
      "Requirement already satisfied: yarl<2.0,>=1.12.0 in /Users/fayvor/Dev/granite-legal-cookbook/.venv/lib/python3.10/site-packages (from aiohttp<4.0.0,>=3.8.3->langchain_community<0.3.0) (1.14.0)\n",
      "Requirement already satisfied: async-timeout<5.0,>=4.0 in /Users/fayvor/Dev/granite-legal-cookbook/.venv/lib/python3.10/site-packages (from aiohttp<4.0.0,>=3.8.3->langchain_community<0.3.0) (4.0.3)\n",
      "Requirement already satisfied: marshmallow<4.0.0,>=3.18.0 in /Users/fayvor/Dev/granite-legal-cookbook/.venv/lib/python3.10/site-packages (from dataclasses-json<0.7,>=0.5.7->langchain_community<0.3.0) (3.22.0)\n",
      "Requirement already satisfied: typing-inspect<1,>=0.4.0 in /Users/fayvor/Dev/granite-legal-cookbook/.venv/lib/python3.10/site-packages (from dataclasses-json<0.7,>=0.5.7->langchain_community<0.3.0) (0.9.0)\n",
      "Requirement already satisfied: anyio in /Users/fayvor/Dev/granite-legal-cookbook/.venv/lib/python3.10/site-packages (from httpx<1,>=0.21.0->replicate) (4.6.0)\n",
      "Requirement already satisfied: certifi in /Users/fayvor/Dev/granite-legal-cookbook/.venv/lib/python3.10/site-packages (from httpx<1,>=0.21.0->replicate) (2024.8.30)\n",
      "Requirement already satisfied: httpcore==1.* in /Users/fayvor/Dev/granite-legal-cookbook/.venv/lib/python3.10/site-packages (from httpx<1,>=0.21.0->replicate) (1.0.6)\n",
      "Requirement already satisfied: idna in /Users/fayvor/Dev/granite-legal-cookbook/.venv/lib/python3.10/site-packages (from httpx<1,>=0.21.0->replicate) (3.10)\n",
      "Requirement already satisfied: sniffio in /Users/fayvor/Dev/granite-legal-cookbook/.venv/lib/python3.10/site-packages (from httpx<1,>=0.21.0->replicate) (1.3.1)\n",
      "Requirement already satisfied: h11<0.15,>=0.13 in /Users/fayvor/Dev/granite-legal-cookbook/.venv/lib/python3.10/site-packages (from httpcore==1.*->httpx<1,>=0.21.0->replicate) (0.14.0)\n",
      "Requirement already satisfied: langchain-text-splitters<0.3.0,>=0.2.0 in /Users/fayvor/Dev/granite-legal-cookbook/.venv/lib/python3.10/site-packages (from langchain<0.3.0,>=0.2.16->langchain_community<0.3.0) (0.2.4)\n",
      "Requirement already satisfied: jsonpatch<2.0,>=1.33 in /Users/fayvor/Dev/granite-legal-cookbook/.venv/lib/python3.10/site-packages (from langchain-core<0.3.0,>=0.2.39->langchain_community<0.3.0) (1.33)\n",
      "Requirement already satisfied: orjson<4.0.0,>=3.9.14 in /Users/fayvor/Dev/granite-legal-cookbook/.venv/lib/python3.10/site-packages (from langsmith<0.2.0,>=0.1.112->langchain_community<0.3.0) (3.10.7)\n",
      "Requirement already satisfied: requests-toolbelt<2.0.0,>=1.0.0 in /Users/fayvor/Dev/granite-legal-cookbook/.venv/lib/python3.10/site-packages (from langsmith<0.2.0,>=0.1.112->langchain_community<0.3.0) (1.0.0)\n",
      "Requirement already satisfied: annotated-types>=0.6.0 in /Users/fayvor/Dev/granite-legal-cookbook/.venv/lib/python3.10/site-packages (from pydantic>1.10.7->replicate) (0.7.0)\n",
      "Requirement already satisfied: pydantic-core==2.23.4 in /Users/fayvor/Dev/granite-legal-cookbook/.venv/lib/python3.10/site-packages (from pydantic>1.10.7->replicate) (2.23.4)\n",
      "Requirement already satisfied: charset-normalizer<4,>=2 in /Users/fayvor/Dev/granite-legal-cookbook/.venv/lib/python3.10/site-packages (from requests<3,>=2->langchain_community<0.3.0) (3.4.0)\n",
      "Requirement already satisfied: urllib3<3,>=1.21.1 in /Users/fayvor/Dev/granite-legal-cookbook/.venv/lib/python3.10/site-packages (from requests<3,>=2->langchain_community<0.3.0) (2.1.0)\n",
      "Requirement already satisfied: greenlet!=0.4.17 in /Users/fayvor/Dev/granite-legal-cookbook/.venv/lib/python3.10/site-packages (from SQLAlchemy<3,>=1.4->langchain_community<0.3.0) (3.1.1)\n",
      "Requirement already satisfied: python-dateutil>=2.8.2 in /Users/fayvor/Dev/granite-legal-cookbook/.venv/lib/python3.10/site-packages (from pandas->datasets) (2.9.0.post0)\n",
      "Requirement already satisfied: pytz>=2020.1 in /Users/fayvor/Dev/granite-legal-cookbook/.venv/lib/python3.10/site-packages (from pandas->datasets) (2024.2)\n",
      "Requirement already satisfied: tzdata>=2022.1 in /Users/fayvor/Dev/granite-legal-cookbook/.venv/lib/python3.10/site-packages (from pandas->datasets) (2024.2)\n",
      "Requirement already satisfied: jsonpointer>=1.9 in /Users/fayvor/Dev/granite-legal-cookbook/.venv/lib/python3.10/site-packages (from jsonpatch<2.0,>=1.33->langchain-core<0.3.0,>=0.2.39->langchain_community<0.3.0) (3.0.0)\n",
      "Requirement already satisfied: six>=1.5 in /Users/fayvor/Dev/granite-legal-cookbook/.venv/lib/python3.10/site-packages (from python-dateutil>=2.8.2->pandas->datasets) (1.16.0)\n",
      "Requirement already satisfied: mypy-extensions>=0.3.0 in /Users/fayvor/Dev/granite-legal-cookbook/.venv/lib/python3.10/site-packages (from typing-inspect<1,>=0.4.0->dataclasses-json<0.7,>=0.5.7->langchain_community<0.3.0) (1.0.0)\n",
      "Requirement already satisfied: propcache>=0.2.0 in /Users/fayvor/Dev/granite-legal-cookbook/.venv/lib/python3.10/site-packages (from yarl<2.0,>=1.12.0->aiohttp<4.0.0,>=3.8.3->langchain_community<0.3.0) (0.2.0)\n",
      "Requirement already satisfied: exceptiongroup>=1.0.2 in /Users/fayvor/Dev/granite-legal-cookbook/.venv/lib/python3.10/site-packages (from anyio->httpx<1,>=0.21.0->replicate) (1.2.2)\n"
     ]
    }
   ],
   "source": [
    "!pip install git+https://github.com/ibm-granite-community/utils \\\n",
    "    \"langchain_community<0.3.0\" \\\n",
    "    replicate \\\n",
    "    datasets \\\n",
    "    transformers \\\n",
    "    tiktoken"
   ]
  },
  {
   "cell_type": "markdown",
   "metadata": {},
   "source": [
    "## Selecting System Components"
   ]
  },
  {
   "cell_type": "markdown",
   "metadata": {
    "jupyter": {
     "outputs_hidden": false
    },
    "pycharm": {
     "name": "#%% md\n"
    }
   },
   "source": [
    "### Choose your LLM\n",
    "The LLM will be used for answering the question, given the retrieved text.\n",
    "\n",
    "Follow the instructions in [Getting Started with Replicate](https://github.com/ibm-granite-community/granite-kitchen/blob/cee1513c77429d7ddbf0e5a49b29b7bc9ca0d996/recipes/Getting_Started/Getting_Started_with_Replicate.ipynb), selecting a Granite Code model from the [`ibm-granite`](https://replicate.com/ibm-granite) org.\n",
    "\n",
    "To connect to a model on a provider other than Replicate, substitute this code cell with one from the [LLM component recipe](https://github.com/ibm-granite-community/granite-kitchen/blob/main/recipes/Components/Langchain_LLMs.ipynb)."
   ]
  },
  {
   "cell_type": "code",
   "execution_count": 2,
   "metadata": {},
   "outputs": [],
   "source": [
    "from langchain_community.llms import Replicate\n",
    "from ibm_granite_community.notebook_utils import set_env_var\n",
    "\n",
    "set_env_var(\"REPLICATE_API_TOKEN\")\n",
    "\n",
    "model = Replicate(\n",
    "    model=\"ibm-granite/granite-3.0-8b-instruct\",\n",
    ")"
   ]
  },
  {
   "cell_type": "markdown",
   "metadata": {},
   "source": [
    "## Get the tokenizer\n",
    "\n",
    "Retrieve the tokenizer used by your chosen LLM."
   ]
  },
  {
   "cell_type": "code",
   "execution_count": 3,
   "metadata": {},
   "outputs": [
    {
     "name": "stderr",
     "output_type": "stream",
     "text": [
      "/Users/fayvor/Dev/granite-legal-cookbook/.venv/lib/python3.10/site-packages/tqdm/auto.py:21: TqdmWarning: IProgress not found. Please update jupyter and ipywidgets. See https://ipywidgets.readthedocs.io/en/stable/user_install.html\n",
      "  from .autonotebook import tqdm as notebook_tqdm\n"
     ]
    }
   ],
   "source": [
    "from transformers import AutoTokenizer\n",
    "\n",
    "model_path = \"ibm-granite/granite-3.0-8b-instruct\"\n",
    "tokenizer = AutoTokenizer.from_pretrained(model_path)"
   ]
  },
  {
   "cell_type": "markdown",
   "metadata": {},
   "source": [
    "## Acquiring the Data\n",
    "\n",
    "We will use a New Hampshire case law dataset to help the model answer questions about NH laws."
   ]
  },
  {
   "cell_type": "markdown",
   "metadata": {},
   "source": [
    "### Download the documents\n",
    "\n",
    "Download the [New Hampshire CAP Caselaw](https://huggingface.co/datasets/free-law/nh) dataset from HuggingFace using the datasets library."
   ]
  },
  {
   "cell_type": "code",
   "execution_count": 4,
   "metadata": {
    "jupyter": {
     "outputs_hidden": false
    },
    "pycharm": {
     "name": "#%%\n"
    }
   },
   "outputs": [
    {
     "name": "stdout",
     "output_type": "stream",
     "text": [
      "Document Count: 21540\n"
     ]
    }
   ],
   "source": [
    "from langchain.document_loaders import HuggingFaceDatasetLoader\n",
    "\n",
    "# Load the documents from the dataset\n",
    "loader = HuggingFaceDatasetLoader(\"free-law/nh\", page_content_column=\"text\")\n",
    "documents = loader.load()\n",
    "print(\"Document Count: \" + str(len(documents)))"
   ]
  },
  {
   "cell_type": "markdown",
   "metadata": {},
   "source": [
    "### Add metadata to the documents\n",
    "\n",
    "Add the `source` field, which is used below, to the metadata."
   ]
  },
  {
   "cell_type": "code",
   "execution_count": 5,
   "metadata": {},
   "outputs": [],
   "source": [
    "for doc in documents:\n",
    "    doc.metadata['source'] = doc.metadata['id']"
   ]
  },
  {
   "cell_type": "markdown",
   "metadata": {},
   "source": [
    "### Inspect the documents"
   ]
  },
  {
   "cell_type": "code",
   "execution_count": 6,
   "metadata": {},
   "outputs": [
    {
     "name": "stdout",
     "output_type": "stream",
     "text": [
      "{'id': '4439812', 'name': 'Louis C. Wyman v. John A. Durkin Robert L. Stark, Secretary of State Carmen Chimento', 'name_abbreviation': 'Wyman v. Stark', 'decision_date': '1975-01-06', 'docket_number': 'No. 7112', 'first_page': 1, 'last_page': '3', 'citations': '115 N.H. 1', 'volume': '115', 'reporter': 'New Hampshire Reports', 'court': 'New Hampshire Supreme Court', 'jurisdiction': 'New Hampshire', 'last_updated': '2021-08-10T17:25:43.934256+00:00', 'provenance': 'CAP', 'judges': '', 'parties': 'Louis C. Wyman v. John A. Durkin Robert L. Stark, Secretary of State Carmen Chimento', 'head_matter': 'Hillsborough\\nNo. 7112\\nLouis C. Wyman v. John A. Durkin Robert L. Stark, Secretary of State Carmen Chimento\\nJanuary 6, 1975\\nStanley M. Brown, Dart S. Bigg, Eugene M. Van Loan III and David R. DePuy (Mr. Brown orally) for the plaintiff.\\nDevine, Millimet, Stahl & Branch and Matthias J. Reynolds and William S. Gannon (Mr. Joseph A. Millimet), by brief and orally, for John A. Durkin.\\nThomas D. Rath, assistant attorney general, orally, for Robert L. Stark, Secretary of State.\\nRichard W. Leonard, by brief and orally, for Carmen Chimento.', 'word_count': '683', 'char_count': '4226', 'source': '4439812'} \n",
      "\n",
      "\"Per curiam.\\nThis transfer arises out of the same case which was the subject matter of the petition for writ of prohibition in Durkin v. Hillsborough County Superior Court, 114 N.H. 788, 330 A.2d 777 (1974). The Superior Court (Bois, J.) has transferred without ruling seven questions, the first of which is as follows: \\u201cDoes the Superior Court have jurisdiction either through RSA 68:4 II; other jurisdictional statutes or through precedent, to invalidate an election for United States Senator?\\u201d\\nThe several States may regulate the conduct of senatorial elections and may provide procedures necessary to guard against irregularity and error in the tabulation of votes and against fraud and corrupt practices. U.S. Const. art. I, \\u00a7 4; Smiley v. Holm, 285 U.S. 355 (1932). They may provide procedures for a recount so long as they do not impair or frustrate the Senate\\u2019s ability to make an independent judgment. Roudebush v. Hartke, 405 U.S. 15 (1972).\\nThe proceedings before the ballot law commission are an integral part of this State\\u2019s elections laws under U.S. Const. art. I, \\u00a7 4. Roudebush v. Hartke, 405 U.S. 15 (1972); Durkin v. Snow, No. 74-359 (D.N.H. Dec. 18, 1974) (three-judge court). On the record before us and the arguments of counsel, there is no indication that the ballot law commission has exceeded its powers under the statute (RSA ch. 68), or failed to conscientiously afford all candidates a fair opportunity to be fully heard in a manner consistent with due process. The ballot law commission has ordered a certificate of election to be issued to Candidate Wyman from which order Candidate Durkin has filed an appeal to the Senate of the United States. RSA 68:11.\\nThe Senate of the United States under article I, section 5 of the Constitution of the United States, like our own senate under part II, article 35 of the New Hampshire constitution, is vested with the power to judge the election and qualifications of its own members including the complaints which are the subject matter of these proceedings. Barry v. United States, 279 U.S. 597 (1928); Petition of Dondero, 94 N.H. 236, 51 A.2d 39 (1947); RSA 68:11; RSA ch. 67.\\nThe petition in Hillsborough County Superior Court bases its jurisdictional claim upon the last section of RSA 68:4 II. That section after vesting exclusive jurisdiction in the ballot law commission states that \\u201cnothing contained in this paragraph shall be construed to bar any person from recourse to the superior court on other questions, within the jurisdiction of such court, relating to the legality or regularity of biennial elections or the results thereof.\\u201d However this language relates only to matters which are \\u201cwithin the jurisdiction of such court.\\u201d Certain statutes give the courts jurisdiction in elections matters, e.g., RSA 64:6 and RSA 68:11. The latter statute however specifically excludes cases of \\u201ccontested elections for the offices of United States senator, representatives in congress, state senator or representative to the general court in view of the constitutional provisions vesting in both houses of congress and both houses of the general court exclusive jurisdiction over the elections and qualifications of their respective members.\\u201d\\nTraditionally our courts have not taken jurisdiction over disputes involving elections to legislative bodies either state or federal. We find no statutory authority under RSA 68:4 II or any other jurisdictional statute or any binding precedent which gives the superior court jurisdiction to invalidate an election to the Senate of the United States.\\nThe answer to question 1 is therefore \\u201cNo\\u201d and it is unnecessary to answer the remaining questions transferred.\\nRemanded.\" \n",
      "\n"
     ]
    }
   ],
   "source": [
    "for doc in documents[:1]:\n",
    "    print(doc.metadata, \"\\n\")\n",
    "    print(doc.page_content, \"\\n\")"
   ]
  },
  {
   "cell_type": "markdown",
   "metadata": {},
   "source": [
    "## Building the Document Database\n",
    "\n",
    "We'll use the caselaw document database to retrieve the full text of the cases by case id."
   ]
  },
  {
   "cell_type": "markdown",
   "metadata": {},
   "source": [
    "### Create the database file and document table"
   ]
  },
  {
   "cell_type": "code",
   "execution_count": 7,
   "metadata": {},
   "outputs": [],
   "source": [
    "# # put the json objects in a sqlite database, keyed by id\n",
    "# import sqlite3, os, json\n",
    "\n",
    "# # remove database file if exists\n",
    "# if os.path.isfile('data.db'):\n",
    "#     os.remove('data.db')\n",
    "\n",
    "# conn = sqlite3.connect('data.db')\n",
    "# c = conn.cursor()\n",
    "\n",
    "# # create the table if it doesn't exist. include id, text, and size\n",
    "# c.execute('''CREATE TABLE IF NOT EXISTS data\n",
    "#              (id INTEGER PRIMARY KEY UNIQUE,\n",
    "#               metadata TEXT,\n",
    "#               text TEXT,\n",
    "#               char_count INTEGER)''')\n"
   ]
  },
  {
   "cell_type": "markdown",
   "metadata": {},
   "source": [
    "### Insert the documents into the table"
   ]
  },
  {
   "cell_type": "code",
   "execution_count": 8,
   "metadata": {},
   "outputs": [],
   "source": [
    "# for doc in documents:\n",
    "#     id = doc.metadata[\"id\"]\n",
    "#     c.execute(\"INSERT INTO data (id, metadata, text, char_count) VALUES (?,?,?,?)\", (id, json.dumps(doc.metadata), doc.page_content, doc.metadata[\"char_count\"]))\n",
    "#     conn.commit()"
   ]
  },
  {
   "cell_type": "markdown",
   "metadata": {},
   "source": [
    "### Count the documents"
   ]
  },
  {
   "cell_type": "code",
   "execution_count": 9,
   "metadata": {},
   "outputs": [],
   "source": [
    "# c.execute(\"SELECT count(*) FROM data\")\n",
    "# doc_count = c.fetchone()[0]\n",
    "# print(f\"Document count: {doc_count}\")"
   ]
  },
  {
   "cell_type": "markdown",
   "metadata": {
    "jupyter": {
     "outputs_hidden": false
    },
    "pycharm": {
     "name": "#%% md\n"
    }
   },
   "source": [
    "## Extracting the entities\n",
    "\n",
    "In this example, we take the caselaw text, split it into chunks, and extract entities from each chunk. "
   ]
  },
  {
   "cell_type": "markdown",
   "metadata": {},
   "source": [
    "### Split the document into chunks\n",
    "\n",
    "Split the document into text segments that can fit into the model's context window."
   ]
  },
  {
   "cell_type": "code",
   "execution_count": 17,
   "metadata": {
    "jupyter": {
     "outputs_hidden": false
    },
    "pycharm": {
     "name": "#%%\n"
    }
   },
   "outputs": [
    {
     "name": "stdout",
     "output_type": "stream",
     "text": [
      "Chunk Count: 1\n"
     ]
    }
   ],
   "source": [
    "from langchain.text_splitter import TokenTextSplitter\n",
    "\n",
    "# Split the documents into chunks\n",
    "text_splitter = TokenTextSplitter(chunk_size=1000, chunk_overlap=10)\n",
    "chunks = text_splitter.split_documents(documents[:1])\n",
    "print(\"Chunk Count: \" + str(len(chunks)))"
   ]
  },
  {
   "cell_type": "markdown",
   "metadata": {},
   "source": [
    "### Inspect the chunks"
   ]
  },
  {
   "cell_type": "code",
   "execution_count": 18,
   "metadata": {},
   "outputs": [
    {
     "name": "stdout",
     "output_type": "stream",
     "text": [
      "\"Per curiam.\\nThis transfer arises out of the same case which was the subject matter of the petition for writ of prohibition in Durkin v. Hillsborough County Superior Court, 114 N.H. 788, 330 A.2d 777 (1974). The Superior Court (Bois, J.) has transferred without ruling seven questions, the first of which is as follows: \\u201cDoes the Superior Court have jurisdiction either through RSA 68:4 II; other jurisdictional statutes or through precedent, to invalidate an election for United States Senator?\\u201d\\nThe several States may regulate the conduct of senatorial elections and may provide procedures necessary to guard against irregularity and error in the tabulation of votes and against fraud and corrupt practices. U.S. Const. art. I, \\u00a7 4; Smiley v. Holm, 285 U.S. 355 (1932). They may provide procedures for a recount so long as they do not impair or frustrate the Senate\\u2019s ability to make an independent judgment. Roudebush v. Hartke, 405 U.S. 15 (1972).\\nThe proceedings before the ballot law commission are an integral part of this State\\u2019s elections laws under U.S. Const. art. I, \\u00a7 4. Roudebush v. Hartke, 405 U.S. 15 (1972); Durkin v. Snow, No. 74-359 (D.N.H. Dec. 18, 1974) (three-judge court). On the record before us and the arguments of counsel, there is no indication that the ballot law commission has exceeded its powers under the statute (RSA ch. 68), or failed to conscientiously afford all candidates a fair opportunity to be fully heard in a manner consistent with due process. The ballot law commission has ordered a certificate of election to be issued to Candidate Wyman from which order Candidate Durkin has filed an appeal to the Senate of the United States. RSA 68:11.\\nThe Senate of the United States under article I, section 5 of the Constitution of the United States, like our own senate under part II, article 35 of the New Hampshire constitution, is vested with the power to judge the election and qualifications of its own members including the complaints which are the subject matter of these proceedings. Barry v. United States, 279 U.S. 597 (1928); Petition of Dondero, 94 N.H. 236, 51 A.2d 39 (1947); RSA 68:11; RSA ch. 67.\\nThe petition in Hillsborough County Superior Court bases its jurisdictional claim upon the last section of RSA 68:4 II. That section after vesting exclusive jurisdiction in the ballot law commission states that \\u201cnothing contained in this paragraph shall be construed to bar any person from recourse to the superior court on other questions, within the jurisdiction of such court, relating to the legality or regularity of biennial elections or the results thereof.\\u201d However this language relates only to matters which are \\u201cwithin the jurisdiction of such court.\\u201d Certain statutes give the courts jurisdiction in elections matters, e.g., RSA 64:6 and RSA 68:11. The latter statute however specifically excludes cases of \\u201ccontested elections for the offices of United States senator, representatives in congress, state senator or representative to the general court in view of the constitutional provisions vesting in both houses of congress and both houses of the general court exclusive jurisdiction over the elections and qualifications of their respective members.\\u201d\\nTraditionally our courts have not taken jurisdiction over disputes involving elections to legislative bodies either state or federal. We find no statutory authority under RSA 68:4 II or any other jurisdictional statute or any binding precedent which gives the superior court jurisdiction to invalidate an election to the Senate of the United States.\\nThe answer to question 1 is therefore \\u201cNo\\u201d and it is unnecessary to answer the remaining questions transferred.\\nRemanded.\"\n",
      "{\n",
      "    \"id\": \"4439812\",\n",
      "    \"name\": \"Louis C. Wyman v. John A. Durkin Robert L. Stark, Secretary of State Carmen Chimento\",\n",
      "    \"name_abbreviation\": \"Wyman v. Stark\",\n",
      "    \"decision_date\": \"1975-01-06\",\n",
      "    \"docket_number\": \"No. 7112\",\n",
      "    \"first_page\": 1,\n",
      "    \"last_page\": \"3\",\n",
      "    \"citations\": \"115 N.H. 1\",\n",
      "    \"volume\": \"115\",\n",
      "    \"reporter\": \"New Hampshire Reports\",\n",
      "    \"court\": \"New Hampshire Supreme Court\",\n",
      "    \"jurisdiction\": \"New Hampshire\",\n",
      "    \"last_updated\": \"2021-08-10T17:25:43.934256+00:00\",\n",
      "    \"provenance\": \"CAP\",\n",
      "    \"judges\": \"\",\n",
      "    \"parties\": \"Louis C. Wyman v. John A. Durkin Robert L. Stark, Secretary of State Carmen Chimento\",\n",
      "    \"head_matter\": \"Hillsborough\\nNo. 7112\\nLouis C. Wyman v. John A. Durkin Robert L. Stark, Secretary of State Carmen Chimento\\nJanuary 6, 1975\\nStanley M. Brown, Dart S. Bigg, Eugene M. Van Loan III and David R. DePuy (Mr. Brown orally) for the plaintiff.\\nDevine, Millimet, Stahl & Branch and Matthias J. Reynolds and William S. Gannon (Mr. Joseph A. Millimet), by brief and orally, for John A. Durkin.\\nThomas D. Rath, assistant attorney general, orally, for Robert L. Stark, Secretary of State.\\nRichard W. Leonard, by brief and orally, for Carmen Chimento.\",\n",
      "    \"word_count\": \"683\",\n",
      "    \"char_count\": \"4226\",\n",
      "    \"source\": \"4439812\"\n",
      "}\n"
     ]
    }
   ],
   "source": [
    "import json\n",
    "for i in range(1):\n",
    "    print(chunks[i].page_content)\n",
    "    print(json.dumps(chunks[i].metadata, indent=4))"
   ]
  },
  {
   "cell_type": "code",
   "execution_count": 23,
   "metadata": {},
   "outputs": [],
   "source": [
    "query = \"\"\"\n",
    "Here are the categories of entity I want you to consider:\n",
    "\n",
    "1. Case Information:\n",
    "A. Case Name (e.g., \"Brown v. Board of Education\")\n",
    "B. Docket Number (unique case identifier)\n",
    "C. Court (e.g., Supreme Court, District Court)\n",
    "D. Jurisdiction (state or federal jurisdiction, e.g., California, United States)\n",
    "2. Legal Parties:\n",
    "A. Plaintiff/Petitioner (the party initiating the case)\n",
    "B. Defendant/Respondent (the party responding to the case)\n",
    "C. Appellant/Appellee (for appeals)\n",
    "3. Attorneys:\n",
    "A. Counsel for Plaintiff/Petitioner (name, law firm, or organization)\n",
    "B. Counsel for Defendant/Respondent (name, law firm, or organization)\n",
    "4. Judges:\n",
    "A. Judge(s)/Justice(s) (name and role: trial judge, appellate judge, presiding justice)\n",
    "B. Panel Composition (for appellate cases, listing judges involved)\n",
    "5. Legal Issues:\n",
    "A. Legal Questions (the issues or questions of law presented to the court)\n",
    "B. Claims (the specific claims or complaints raised by the plaintiff)\n",
    "6. Legal Doctrines and Principles:\n",
    "A. Statutes/Acts (e.g., \"Civil Rights Act of 1964\")\n",
    "B. Precedents Cited (previous case law referred to)\n",
    "C. Constitutional Provisions (e.g., \"First Amendment,\" \"Article III\")\n",
    "7. Facts and Context:\n",
    "A. Material Facts (key facts on which the case is based)\n",
    "B. Timeline (sequence of events leading up to and during the case)\n",
    "8. Case Outcome:\n",
    "A. Decision/Holding (the final judgment, such as \"Affirmed,\" \"Reversed\")\n",
    "B. Disposition (e.g., \"dismissed with prejudice,\" \"remanded\")\n",
    "C. Majority Opinion (summary or reasoning of the court's majority)\n",
    "D. Concurring Opinion (opinion agreeing with the majority but for different reasons)\n",
    "E. Dissenting Opinion (opinion disagreeing with the majority decision)\n",
    "9. Procedural History:\n",
    "A. Lower Court Rulings (previous decisions that led to the current case)\n",
    "B. Appeals (sequence of appeals, appellate court involvement)\n",
    "10. Relationships Between Entities:\n",
    "A. Case Citation Relationship (e.g., \"Case A cited Case B\")\n",
    "B. Statute Application (e.g., \"Statute X was applied in Case Y\")\n",
    "C. Fact Relationships (linking individuals or events to legal consequences)\n",
    "11. Court Documents:\n",
    "A. Pleadings (complaints, answers, motions)\n",
    "B. Briefs (e.g., appellate briefs, amicus briefs)\n",
    "C. Orders (e.g., summary judgment, dismissal orders)\n",
    "12. Dates:\n",
    "A. Date of Filing (date the case was initiated)\n",
    "B. Date of Decision (date the judgment was rendered)\n",
    "C. Hearing Dates (important hearings or oral argument dates)\n",
    "13. Legal Outcomes:\n",
    "A. Remedies (e.g., \"compensatory damages,\" \"injunctive relief\")\n",
    "B. Sentences (in criminal cases, e.g., \"5 years imprisonment\")\n",
    "14. Legal Concepts:\n",
    "A. Standards of Review (e.g., \"de novo,\" \"abuse of discretion\")\n",
    "B. Burden of Proof (e.g., \"preponderance of the evidence,\" \"beyond a reasonable doubt\")\n",
    "\n",
    "\n",
    "What are the entities of interest in the following text? Use the same numbering and lettering scheme as the entity categories above, using numbers for the major category of and letters for the minor category. \\n\\n{}\"\"\"\n"
   ]
  },
  {
   "cell_type": "code",
   "execution_count": 25,
   "metadata": {},
   "outputs": [
    {
     "name": "stdout",
     "output_type": "stream",
     "text": [
      "Chunk of 4439812\n",
      "1. Case Information:\n",
      "   A. Case Name: Louis C. Wyman v. John A. Durkin Robert L. Stark, Secretary of State Carmen Chimento\n",
      "   B. Docket Number: No. 7112\n",
      "   C. Court: New Hampshire Supreme Court\n",
      "   D. Jurisdiction: New Hampshire\n",
      "\n",
      "2. Legal Parties:\n",
      "   A. Plaintiff/Petitioner: Louis C. Wyman\n",
      "   B. Defendant/Respondent: John A. Durkin\n",
      "   C. Appellant/Appellee: Not explicitly mentioned, but the case involves an appeal to the Senate of the United States.\n",
      "\n",
      "3. Attorneys:\n",
      "   A. Counsel for Plaintiff/Petitioner: Stanley M. Brown, Dart S. Bigg, Eugene M. Van Loan III, and David R. DePuy\n",
      "   B. Counsel for Defendant/Respondent: John A. Durkin (represented by Devine, Millimet, Stahl & Branch and Matthias J. Reynolds and William S. Gannon)\n",
      "   C. Counsel for Robert L. Stark, Secretary of State: Thomas D. Rath, assistant attorney general\n",
      "   D. Counsel for Carmen Chimento: Richard W. Leonard\n",
      "\n",
      "4. Judges:\n",
      "   A. Judge(s)/Justice(s): Not explicitly mentioned, but the case was decided by the New Hampshire Supreme Court.\n",
      "   B. Panel Composition: Not explicitly mentioned.\n",
      "\n",
      "5. Legal Issues:\n",
      "   A. Legal Questions: The case involves the jurisdiction of the New Hampshire Supreme Court to invalidate an election for United States Senator.\n",
      "   B. Claims: Not explicitly mentioned, but the case involves an appeal to the Senate of the United States regarding the election of a United States Senator.\n",
      "\n",
      "6. Legal Doctrines and Principles:\n",
      "   A. Statutes/Acts: RSA 68:4 II, RSA 64:6, RSA 68:11\n",
      "   B. Precedents Cited: Not explicitly mentioned.\n",
      "   C. Constitutional Provisions: U.S. Const. art. I, § 4; U.S. Const. art. I, § 5\n",
      "\n",
      "7. Facts and Context:\n",
      "   A. Material Facts: The case involves an election for United States Senator, with Candidate Wyman being certified as the winner by the ballot law commission. Candidate Durkin has appealed this decision to the Senate of the United States.\n",
      "   B. Timeline: The case was decided on January 6, 1975.\n",
      "\n",
      "8. Case Outcome:\n",
      "   A. Decision/Holding: The New Hampshire Supreme Court answered question 1 (regarding the Superior Court's jurisdiction to invalidate an election for United States Senator) with \"No.\"\n",
      "   B. Disposition: The case was remanded.\n",
      "   C. Majority Opinion: Not explicitly mentioned, but the opinion explains the court's reasoning for answering question 1 with \"No.\"\n",
      "   D. Concurring Opinion: Not explicitly mentioned.\n",
      "   E. Dissenting Opinion: Not explicitly mentioned.\n",
      "\n",
      "9. Procedural History:\n",
      "   A. Lower Court Rulings: The case was transferred to the New Hampshire Supreme Court from the Hillsborough County Superior Court.\n",
      "   B. Appeals: The case involves an appeal to the Senate of the United States.\n",
      "\n",
      "10. Relationships Between Entities:\n",
      "   A. Case Citation Relationship: Not explicitly mentioned.\n",
      "   B. Statute Application: RSA 68:4 II, RSA 64:6, RSA 68:11 were applied in the case.\n",
      "   C. Fact Relationships: The case involves an election for United States Senator, with Candidate Wyman being certified as the winner by the ballot law commission. Candidate Durkin has appealed this decision to the Senate of the United States.\n",
      "\n",
      "11. Court Documents:\n",
      "   A. Pleadings: Not explicitly mentioned, but the case involves an appeal to the Senate of the United States.\n",
      "   B. Briefs: Not explicitly mentioned, but the case involves an appeal to the Senate of the United States.\n",
      "   C. Orders: Not explicitly mentioned, but\n"
     ]
    }
   ],
   "source": [
    "\n",
    "for chunk in chunks[:1]:\n",
    "    print(f\"Chunk of {chunk.metadata['id']}\")\n",
    "    response = model.invoke(query.format(chunk), max_tokens=1000)\n",
    "    print(response)"
   ]
  }
 ],
 "metadata": {
  "kernelspec": {
   "display_name": ".venv",
   "language": "python",
   "name": "python3"
  },
  "language_info": {
   "codemirror_mode": {
    "name": "ipython",
    "version": 3
   },
   "file_extension": ".py",
   "mimetype": "text/x-python",
   "name": "python",
   "nbconvert_exporter": "python",
   "pygments_lexer": "ipython3",
   "version": "3.10.15"
  }
 },
 "nbformat": 4,
 "nbformat_minor": 4
}
