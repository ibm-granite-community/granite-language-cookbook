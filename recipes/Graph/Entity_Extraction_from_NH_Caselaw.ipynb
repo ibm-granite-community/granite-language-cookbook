{
 "cells": [
  {
   "attachments": {},
   "cell_type": "markdown",
   "metadata": {
    "pycharm": {
     "name": "#%% md\n"
    }
   },
   "source": [
    "# Entity Extraction from New Hampshire Case Law\n",
    "*With IBM Granite Models*\n",
    "\n",
    "The [New Hampshire Case Law Dataset](https://huggingface.co/datasets/free-law/nh) comes from the Caselaw Access Project via Hugging Face."
   ]
  },
  {
   "cell_type": "markdown",
   "metadata": {
    "jupyter": {
     "outputs_hidden": false
    },
    "pycharm": {
     "name": "#%% md\n"
    }
   },
   "source": [
    "## In this notebook\n",
    "This notebook contains instructions for performing entity extraction."
   ]
  },
  {
   "cell_type": "markdown",
   "metadata": {},
   "source": [
    "## Prerequisites\n",
    "\n",
    "To get started, you'll need:\n",
    "* A [Replicate account](https://replicate.com/) and API token."
   ]
  },
  {
   "cell_type": "markdown",
   "metadata": {
    "jupyter": {
     "outputs_hidden": false
    },
    "pycharm": {
     "name": "#%% md\n"
    }
   },
   "source": [
    "## Setting up the environment"
   ]
  },
  {
   "cell_type": "markdown",
   "metadata": {
    "jupyter": {
     "outputs_hidden": false
    },
    "pycharm": {
     "name": "#%% md\n"
    }
   },
   "source": [
    "### Install dependencies\n",
    "\n",
    "Granite Kitchen comes with a bundle of dependencies that are required for notebooks. See the list of packages in its [`setup.py`](https://github.com/ibm-granite-community/granite-kitchen/blob/main/setup.py). "
   ]
  },
  {
   "cell_type": "code",
   "execution_count": 47,
   "metadata": {
    "jupyter": {
     "outputs_hidden": false
    },
    "pycharm": {
     "name": "#%%\n"
    }
   },
   "outputs": [
    {
     "name": "stderr",
     "output_type": "stream",
     "text": [
      "huggingface/tokenizers: The current process just got forked, after parallelism has already been used. Disabling parallelism to avoid deadlocks...\n",
      "To disable this warning, you can either:\n",
      "\t- Avoid using `tokenizers` before the fork if possible\n",
      "\t- Explicitly set the environment variable TOKENIZERS_PARALLELISM=(true | false)\n"
     ]
    },
    {
     "name": "stdout",
     "output_type": "stream",
     "text": [
      "Collecting git+https://github.com/ibm-granite-community/utils\n",
      "  Cloning https://github.com/ibm-granite-community/utils to /private/var/folders/nc/jrql4k0n2j73h7xktzxdr4pr0000gn/T/pip-req-build-4wi9a7ku\n",
      "  Running command git clone --filter=blob:none --quiet https://github.com/ibm-granite-community/utils /private/var/folders/nc/jrql4k0n2j73h7xktzxdr4pr0000gn/T/pip-req-build-4wi9a7ku\n",
      "  Resolved https://github.com/ibm-granite-community/utils to commit a4b663310cdc11be2f3039a11d263dae98584582\n",
      "  Installing build dependencies ... \u001b[?25ldone\n",
      "\u001b[?25h  Getting requirements to build wheel ... \u001b[?25ldone\n",
      "\u001b[?25h  Preparing metadata (pyproject.toml) ... \u001b[?25ldone\n",
      "\u001b[?25hRequirement already satisfied: langchain_community<0.3.0 in /Users/fayvor/Dev/granite-legal-cookbook/.venv/lib/python3.10/site-packages (0.2.17)\n",
      "Requirement already satisfied: replicate in /Users/fayvor/Dev/granite-legal-cookbook/.venv/lib/python3.10/site-packages (1.0.1)\n",
      "Requirement already satisfied: datasets in /Users/fayvor/Dev/granite-legal-cookbook/.venv/lib/python3.10/site-packages (3.0.1)\n",
      "Requirement already satisfied: transformers in /Users/fayvor/Dev/granite-legal-cookbook/.venv/lib/python3.10/site-packages (4.45.2)\n",
      "Requirement already satisfied: tiktoken in /Users/fayvor/Dev/granite-legal-cookbook/.venv/lib/python3.10/site-packages (0.8.0)\n",
      "Requirement already satisfied: neo4j in /Users/fayvor/Dev/granite-legal-cookbook/.venv/lib/python3.10/site-packages (5.25.0)\n",
      "Requirement already satisfied: stringcase in /Users/fayvor/Dev/granite-legal-cookbook/.venv/lib/python3.10/site-packages (1.2.0)\n",
      "Requirement already satisfied: python-dotenv in /Users/fayvor/Dev/granite-legal-cookbook/.venv/lib/python3.10/site-packages (from ibm_granite_community==0.1.0) (1.0.1)\n",
      "Requirement already satisfied: PyYAML>=5.3 in /Users/fayvor/Dev/granite-legal-cookbook/.venv/lib/python3.10/site-packages (from langchain_community<0.3.0) (6.0.2)\n",
      "Requirement already satisfied: SQLAlchemy<3,>=1.4 in /Users/fayvor/Dev/granite-legal-cookbook/.venv/lib/python3.10/site-packages (from langchain_community<0.3.0) (2.0.35)\n",
      "Requirement already satisfied: aiohttp<4.0.0,>=3.8.3 in /Users/fayvor/Dev/granite-legal-cookbook/.venv/lib/python3.10/site-packages (from langchain_community<0.3.0) (3.10.9)\n",
      "Requirement already satisfied: dataclasses-json<0.7,>=0.5.7 in /Users/fayvor/Dev/granite-legal-cookbook/.venv/lib/python3.10/site-packages (from langchain_community<0.3.0) (0.6.7)\n",
      "Requirement already satisfied: langchain<0.3.0,>=0.2.16 in /Users/fayvor/Dev/granite-legal-cookbook/.venv/lib/python3.10/site-packages (from langchain_community<0.3.0) (0.2.16)\n",
      "Requirement already satisfied: langchain-core<0.3.0,>=0.2.39 in /Users/fayvor/Dev/granite-legal-cookbook/.venv/lib/python3.10/site-packages (from langchain_community<0.3.0) (0.2.41)\n",
      "Requirement already satisfied: langsmith<0.2.0,>=0.1.112 in /Users/fayvor/Dev/granite-legal-cookbook/.venv/lib/python3.10/site-packages (from langchain_community<0.3.0) (0.1.133)\n",
      "Requirement already satisfied: numpy<2,>=1 in /Users/fayvor/Dev/granite-legal-cookbook/.venv/lib/python3.10/site-packages (from langchain_community<0.3.0) (1.26.4)\n",
      "Requirement already satisfied: requests<3,>=2 in /Users/fayvor/Dev/granite-legal-cookbook/.venv/lib/python3.10/site-packages (from langchain_community<0.3.0) (2.32.3)\n",
      "Requirement already satisfied: tenacity!=8.4.0,<9.0.0,>=8.1.0 in /Users/fayvor/Dev/granite-legal-cookbook/.venv/lib/python3.10/site-packages (from langchain_community<0.3.0) (8.5.0)\n",
      "Requirement already satisfied: httpx<1,>=0.21.0 in /Users/fayvor/Dev/granite-legal-cookbook/.venv/lib/python3.10/site-packages (from replicate) (0.27.2)\n",
      "Requirement already satisfied: packaging in /Users/fayvor/Dev/granite-legal-cookbook/.venv/lib/python3.10/site-packages (from replicate) (24.1)\n",
      "Requirement already satisfied: pydantic>1.10.7 in /Users/fayvor/Dev/granite-legal-cookbook/.venv/lib/python3.10/site-packages (from replicate) (2.9.2)\n",
      "Requirement already satisfied: typing-extensions>=4.5.0 in /Users/fayvor/Dev/granite-legal-cookbook/.venv/lib/python3.10/site-packages (from replicate) (4.12.2)\n",
      "Requirement already satisfied: filelock in /Users/fayvor/Dev/granite-legal-cookbook/.venv/lib/python3.10/site-packages (from datasets) (3.16.1)\n",
      "Requirement already satisfied: pyarrow>=15.0.0 in /Users/fayvor/Dev/granite-legal-cookbook/.venv/lib/python3.10/site-packages (from datasets) (17.0.0)\n",
      "Requirement already satisfied: dill<0.3.9,>=0.3.0 in /Users/fayvor/Dev/granite-legal-cookbook/.venv/lib/python3.10/site-packages (from datasets) (0.3.8)\n",
      "Requirement already satisfied: pandas in /Users/fayvor/Dev/granite-legal-cookbook/.venv/lib/python3.10/site-packages (from datasets) (2.1.4)\n",
      "Requirement already satisfied: tqdm>=4.66.3 in /Users/fayvor/Dev/granite-legal-cookbook/.venv/lib/python3.10/site-packages (from datasets) (4.66.5)\n",
      "Requirement already satisfied: xxhash in /Users/fayvor/Dev/granite-legal-cookbook/.venv/lib/python3.10/site-packages (from datasets) (3.5.0)\n",
      "Requirement already satisfied: multiprocess in /Users/fayvor/Dev/granite-legal-cookbook/.venv/lib/python3.10/site-packages (from datasets) (0.70.16)\n",
      "Requirement already satisfied: fsspec<=2024.6.1,>=2023.1.0 in /Users/fayvor/Dev/granite-legal-cookbook/.venv/lib/python3.10/site-packages (from fsspec[http]<=2024.6.1,>=2023.1.0->datasets) (2024.6.1)\n",
      "Requirement already satisfied: huggingface-hub>=0.22.0 in /Users/fayvor/Dev/granite-legal-cookbook/.venv/lib/python3.10/site-packages (from datasets) (0.25.2)\n",
      "Requirement already satisfied: regex!=2019.12.17 in /Users/fayvor/Dev/granite-legal-cookbook/.venv/lib/python3.10/site-packages (from transformers) (2024.9.11)\n",
      "Requirement already satisfied: safetensors>=0.4.1 in /Users/fayvor/Dev/granite-legal-cookbook/.venv/lib/python3.10/site-packages (from transformers) (0.4.5)\n",
      "Requirement already satisfied: tokenizers<0.21,>=0.20 in /Users/fayvor/Dev/granite-legal-cookbook/.venv/lib/python3.10/site-packages (from transformers) (0.20.1)\n",
      "Requirement already satisfied: pytz in /Users/fayvor/Dev/granite-legal-cookbook/.venv/lib/python3.10/site-packages (from neo4j) (2024.2)\n",
      "Requirement already satisfied: aiohappyeyeballs>=2.3.0 in /Users/fayvor/Dev/granite-legal-cookbook/.venv/lib/python3.10/site-packages (from aiohttp<4.0.0,>=3.8.3->langchain_community<0.3.0) (2.4.3)\n",
      "Requirement already satisfied: aiosignal>=1.1.2 in /Users/fayvor/Dev/granite-legal-cookbook/.venv/lib/python3.10/site-packages (from aiohttp<4.0.0,>=3.8.3->langchain_community<0.3.0) (1.3.1)\n",
      "Requirement already satisfied: attrs>=17.3.0 in /Users/fayvor/Dev/granite-legal-cookbook/.venv/lib/python3.10/site-packages (from aiohttp<4.0.0,>=3.8.3->langchain_community<0.3.0) (24.2.0)\n",
      "Requirement already satisfied: frozenlist>=1.1.1 in /Users/fayvor/Dev/granite-legal-cookbook/.venv/lib/python3.10/site-packages (from aiohttp<4.0.0,>=3.8.3->langchain_community<0.3.0) (1.4.1)\n",
      "Requirement already satisfied: multidict<7.0,>=4.5 in /Users/fayvor/Dev/granite-legal-cookbook/.venv/lib/python3.10/site-packages (from aiohttp<4.0.0,>=3.8.3->langchain_community<0.3.0) (6.1.0)\n",
      "Requirement already satisfied: yarl<2.0,>=1.12.0 in /Users/fayvor/Dev/granite-legal-cookbook/.venv/lib/python3.10/site-packages (from aiohttp<4.0.0,>=3.8.3->langchain_community<0.3.0) (1.14.0)\n",
      "Requirement already satisfied: async-timeout<5.0,>=4.0 in /Users/fayvor/Dev/granite-legal-cookbook/.venv/lib/python3.10/site-packages (from aiohttp<4.0.0,>=3.8.3->langchain_community<0.3.0) (4.0.3)\n",
      "Requirement already satisfied: marshmallow<4.0.0,>=3.18.0 in /Users/fayvor/Dev/granite-legal-cookbook/.venv/lib/python3.10/site-packages (from dataclasses-json<0.7,>=0.5.7->langchain_community<0.3.0) (3.22.0)\n",
      "Requirement already satisfied: typing-inspect<1,>=0.4.0 in /Users/fayvor/Dev/granite-legal-cookbook/.venv/lib/python3.10/site-packages (from dataclasses-json<0.7,>=0.5.7->langchain_community<0.3.0) (0.9.0)\n",
      "Requirement already satisfied: anyio in /Users/fayvor/Dev/granite-legal-cookbook/.venv/lib/python3.10/site-packages (from httpx<1,>=0.21.0->replicate) (4.6.0)\n",
      "Requirement already satisfied: certifi in /Users/fayvor/Dev/granite-legal-cookbook/.venv/lib/python3.10/site-packages (from httpx<1,>=0.21.0->replicate) (2024.8.30)\n",
      "Requirement already satisfied: httpcore==1.* in /Users/fayvor/Dev/granite-legal-cookbook/.venv/lib/python3.10/site-packages (from httpx<1,>=0.21.0->replicate) (1.0.6)\n",
      "Requirement already satisfied: idna in /Users/fayvor/Dev/granite-legal-cookbook/.venv/lib/python3.10/site-packages (from httpx<1,>=0.21.0->replicate) (3.10)\n",
      "Requirement already satisfied: sniffio in /Users/fayvor/Dev/granite-legal-cookbook/.venv/lib/python3.10/site-packages (from httpx<1,>=0.21.0->replicate) (1.3.1)\n",
      "Requirement already satisfied: h11<0.15,>=0.13 in /Users/fayvor/Dev/granite-legal-cookbook/.venv/lib/python3.10/site-packages (from httpcore==1.*->httpx<1,>=0.21.0->replicate) (0.14.0)\n",
      "Requirement already satisfied: langchain-text-splitters<0.3.0,>=0.2.0 in /Users/fayvor/Dev/granite-legal-cookbook/.venv/lib/python3.10/site-packages (from langchain<0.3.0,>=0.2.16->langchain_community<0.3.0) (0.2.4)\n",
      "Requirement already satisfied: jsonpatch<2.0,>=1.33 in /Users/fayvor/Dev/granite-legal-cookbook/.venv/lib/python3.10/site-packages (from langchain-core<0.3.0,>=0.2.39->langchain_community<0.3.0) (1.33)\n",
      "Requirement already satisfied: orjson<4.0.0,>=3.9.14 in /Users/fayvor/Dev/granite-legal-cookbook/.venv/lib/python3.10/site-packages (from langsmith<0.2.0,>=0.1.112->langchain_community<0.3.0) (3.10.7)\n",
      "Requirement already satisfied: requests-toolbelt<2.0.0,>=1.0.0 in /Users/fayvor/Dev/granite-legal-cookbook/.venv/lib/python3.10/site-packages (from langsmith<0.2.0,>=0.1.112->langchain_community<0.3.0) (1.0.0)\n",
      "Requirement already satisfied: annotated-types>=0.6.0 in /Users/fayvor/Dev/granite-legal-cookbook/.venv/lib/python3.10/site-packages (from pydantic>1.10.7->replicate) (0.7.0)\n",
      "Requirement already satisfied: pydantic-core==2.23.4 in /Users/fayvor/Dev/granite-legal-cookbook/.venv/lib/python3.10/site-packages (from pydantic>1.10.7->replicate) (2.23.4)\n",
      "Requirement already satisfied: charset-normalizer<4,>=2 in /Users/fayvor/Dev/granite-legal-cookbook/.venv/lib/python3.10/site-packages (from requests<3,>=2->langchain_community<0.3.0) (3.4.0)\n",
      "Requirement already satisfied: urllib3<3,>=1.21.1 in /Users/fayvor/Dev/granite-legal-cookbook/.venv/lib/python3.10/site-packages (from requests<3,>=2->langchain_community<0.3.0) (2.1.0)\n",
      "Requirement already satisfied: greenlet!=0.4.17 in /Users/fayvor/Dev/granite-legal-cookbook/.venv/lib/python3.10/site-packages (from SQLAlchemy<3,>=1.4->langchain_community<0.3.0) (3.1.1)\n",
      "Requirement already satisfied: python-dateutil>=2.8.2 in /Users/fayvor/Dev/granite-legal-cookbook/.venv/lib/python3.10/site-packages (from pandas->datasets) (2.9.0.post0)\n",
      "Requirement already satisfied: tzdata>=2022.1 in /Users/fayvor/Dev/granite-legal-cookbook/.venv/lib/python3.10/site-packages (from pandas->datasets) (2024.2)\n",
      "Requirement already satisfied: jsonpointer>=1.9 in /Users/fayvor/Dev/granite-legal-cookbook/.venv/lib/python3.10/site-packages (from jsonpatch<2.0,>=1.33->langchain-core<0.3.0,>=0.2.39->langchain_community<0.3.0) (3.0.0)\n",
      "Requirement already satisfied: six>=1.5 in /Users/fayvor/Dev/granite-legal-cookbook/.venv/lib/python3.10/site-packages (from python-dateutil>=2.8.2->pandas->datasets) (1.16.0)\n",
      "Requirement already satisfied: mypy-extensions>=0.3.0 in /Users/fayvor/Dev/granite-legal-cookbook/.venv/lib/python3.10/site-packages (from typing-inspect<1,>=0.4.0->dataclasses-json<0.7,>=0.5.7->langchain_community<0.3.0) (1.0.0)\n",
      "Requirement already satisfied: propcache>=0.2.0 in /Users/fayvor/Dev/granite-legal-cookbook/.venv/lib/python3.10/site-packages (from yarl<2.0,>=1.12.0->aiohttp<4.0.0,>=3.8.3->langchain_community<0.3.0) (0.2.0)\n",
      "Requirement already satisfied: exceptiongroup>=1.0.2 in /Users/fayvor/Dev/granite-legal-cookbook/.venv/lib/python3.10/site-packages (from anyio->httpx<1,>=0.21.0->replicate) (1.2.2)\n",
      "\n",
      "\u001b[1m[\u001b[0m\u001b[34;49mnotice\u001b[0m\u001b[1;39;49m]\u001b[0m\u001b[39;49m A new release of pip is available: \u001b[0m\u001b[31;49m24.2\u001b[0m\u001b[39;49m -> \u001b[0m\u001b[32;49m24.3.1\u001b[0m\n",
      "\u001b[1m[\u001b[0m\u001b[34;49mnotice\u001b[0m\u001b[1;39;49m]\u001b[0m\u001b[39;49m To update, run: \u001b[0m\u001b[32;49mpip install --upgrade pip\u001b[0m\n"
     ]
    }
   ],
   "source": [
    "!pip install git+https://github.com/ibm-granite-community/utils \\\n",
    "    \"langchain_community<0.3.0\" \\\n",
    "    replicate \\\n",
    "    datasets \\\n",
    "    transformers \\\n",
    "    tiktoken \\\n",
    "    neo4j \\\n",
    "    stringcase"
   ]
  },
  {
   "cell_type": "code",
   "execution_count": null,
   "metadata": {},
   "outputs": [],
   "source": []
  },
  {
   "cell_type": "markdown",
   "metadata": {},
   "source": [
    "## Selecting System Components"
   ]
  },
  {
   "cell_type": "markdown",
   "metadata": {
    "jupyter": {
     "outputs_hidden": false
    },
    "pycharm": {
     "name": "#%% md\n"
    }
   },
   "source": [
    "### Choose your LLM\n",
    "The LLM will be used for answering the question, given the retrieved text.\n",
    "\n",
    "Follow the instructions in [Getting Started with Replicate](https://github.com/ibm-granite-community/granite-kitchen/blob/cee1513c77429d7ddbf0e5a49b29b7bc9ca0d996/recipes/Getting_Started/Getting_Started_with_Replicate.ipynb), selecting a Granite Code model from the [`ibm-granite`](https://replicate.com/ibm-granite) org.\n",
    "\n",
    "To connect to a model on a provider other than Replicate, substitute this code cell with one from the [LLM component recipe](https://github.com/ibm-granite-community/granite-kitchen/blob/main/recipes/Components/Langchain_LLMs.ipynb)."
   ]
  },
  {
   "cell_type": "code",
   "execution_count": 48,
   "metadata": {},
   "outputs": [],
   "source": [
    "from langchain_community.llms import Replicate\n",
    "from ibm_granite_community.notebook_utils import set_env_var, get_env_var\n",
    "\n",
    "model = Replicate(\n",
    "    model=\"ibm-granite/granite-3.0-8b-instruct\",\n",
    "    replicate_api_token=get_env_var(\"REPLICATE_API_TOKEN\"),\n",
    ")"
   ]
  },
  {
   "cell_type": "markdown",
   "metadata": {},
   "source": [
    "## Get the tokenizer\n",
    "\n",
    "Retrieve the tokenizer used by your chosen LLM."
   ]
  },
  {
   "cell_type": "code",
   "execution_count": 49,
   "metadata": {},
   "outputs": [],
   "source": [
    "from transformers import AutoTokenizer\n",
    "\n",
    "model_path = \"ibm-granite/granite-3.0-8b-instruct\"\n",
    "tokenizer = AutoTokenizer.from_pretrained(model_path)"
   ]
  },
  {
   "cell_type": "markdown",
   "metadata": {},
   "source": [
    "## Acquiring the Data\n",
    "\n",
    "We will use a New Hampshire case law dataset to help the model answer questions about NH laws."
   ]
  },
  {
   "cell_type": "markdown",
   "metadata": {},
   "source": [
    "### Download the documents\n",
    "\n",
    "Download the [New Hampshire CAP Caselaw](https://huggingface.co/datasets/free-law/nh) dataset from HuggingFace using the datasets library."
   ]
  },
  {
   "cell_type": "code",
   "execution_count": 111,
   "metadata": {
    "jupyter": {
     "outputs_hidden": false
    },
    "pycharm": {
     "name": "#%%\n"
    }
   },
   "outputs": [
    {
     "name": "stdout",
     "output_type": "stream",
     "text": [
      "Document Count: 21540\n"
     ]
    }
   ],
   "source": [
    "from langchain.document_loaders import HuggingFaceDatasetLoader\n",
    "\n",
    "# Load the documents from the dataset\n",
    "loader = HuggingFaceDatasetLoader(\"free-law/nh\", page_content_column=\"text\")\n",
    "documents = loader.load()\n",
    "print(\"Document Count: \" + str(len(documents)))"
   ]
  },
  {
   "cell_type": "markdown",
   "metadata": {},
   "source": [
    "### Add metadata to the documents\n",
    "\n",
    "Add the `source` field, which is used below, to the metadata."
   ]
  },
  {
   "cell_type": "code",
   "execution_count": 51,
   "metadata": {},
   "outputs": [],
   "source": [
    "for doc in documents:\n",
    "    doc.metadata['source'] = doc.metadata['id']"
   ]
  },
  {
   "cell_type": "markdown",
   "metadata": {},
   "source": [
    "### Inspect the documents"
   ]
  },
  {
   "cell_type": "code",
   "execution_count": 88,
   "metadata": {},
   "outputs": [
    {
     "name": "stdout",
     "output_type": "stream",
     "text": [
      "{'id': '4439812', 'name': 'Louis C. Wyman v. John A. Durkin Robert L. Stark, Secretary of State Carmen Chimento', 'name_abbreviation': 'Wyman v. Stark', 'decision_date': '1975-01-06', 'docket_number': 'No. 7112', 'first_page': 1, 'last_page': '3', 'citations': '115 N.H. 1', 'volume': '115', 'reporter': 'New Hampshire Reports', 'court': 'New Hampshire Supreme Court', 'jurisdiction': 'New Hampshire', 'last_updated': '2021-08-10T17:25:43.934256+00:00', 'provenance': 'CAP', 'judges': '', 'parties': 'Louis C. Wyman v. John A. Durkin Robert L. Stark, Secretary of State Carmen Chimento', 'head_matter': 'Hillsborough\\nNo. 7112\\nLouis C. Wyman v. John A. Durkin Robert L. Stark, Secretary of State Carmen Chimento\\nJanuary 6, 1975\\nStanley M. Brown, Dart S. Bigg, Eugene M. Van Loan III and David R. DePuy (Mr. Brown orally) for the plaintiff.\\nDevine, Millimet, Stahl & Branch and Matthias J. Reynolds and William S. Gannon (Mr. Joseph A. Millimet), by brief and orally, for John A. Durkin.\\nThomas D. Rath, assistant attorney general, orally, for Robert L. Stark, Secretary of State.\\nRichard W. Leonard, by brief and orally, for Carmen Chimento.', 'word_count': '683', 'char_count': '4226', 'source': '4439812'} \n",
      "\n",
      "\"Per curiam.\\nThis transfer arises out of the same case which was the subject matter of the petition for writ of prohibition in Durkin v. Hillsborough County Superior Court, 114 N.H. 788, 330 A.2d 777 (1974). The Superior Court (Bois, J.) has transferred without ruling seven questions, the first of which is as follows: \\u201cDoes the Superior Court have jurisdiction either through RSA 68:4 II; other jurisdictional statutes or through precedent, to invalidate an election for United States Senator?\\u201d\\nThe several States may regulate the conduct of senatorial elections and may provide procedures necessary to guard against irregularity and error in the tabulation of votes and against fraud and corrupt practices. U.S. Const. art. I, \\u00a7 4; Smiley v. Holm, 285 U.S. 355 (1932). They may provide procedures for a recount so long as they do not impair or frustrate the Senate\\u2019s ability to make an independent judgment. Roudebush v. Hartke, 405 U.S. 15 (1972).\\nThe proceedings before the ballot law commission are an integral part of this State\\u2019s elections laws under U.S. Const. art. I, \\u00a7 4. Roudebush v. Hartke, 405 U.S. 15 (1972); Durkin v. Snow, No. 74-359 (D.N.H. Dec. 18, 1974) (three-judge court). On the record before us and the arguments of counsel, there is no indication that the ballot law commission has exceeded its powers under the statute (RSA ch. 68), or failed to conscientiously afford all candidates a fair opportunity to be fully heard in a manner consistent with due process. The ballot law commission has ordered a certificate of election to be issued to Candidate Wyman from which order Candidate Durkin has filed an appeal to the Senate of the United States. RSA 68:11.\\nThe Senate of the United States under article I, section 5 of the Constitution of the United States, like our own senate under part II, article 35 of the New Hampshire constitution, is vested with the power to judge the election and qualifications of its own members including the complaints which are the subject matter of these proceedings. Barry v. United States, 279 U.S. 597 (1928); Petition of Dondero, 94 N.H. 236, 51 A.2d 39 (1947); RSA 68:11; RSA ch. 67.\\nThe petition in Hillsborough County Superior Court bases its jurisdictional claim upon the last section of RSA 68:4 II. That section after vesting exclusive jurisdiction in the ballot law commission states that \\u201cnothing contained in this paragraph shall be construed to bar any person from recourse to the superior court on other questions, within the jurisdiction of such court, relating to the legality or regularity of biennial elections or the results thereof.\\u201d However this language relates only to matters which are \\u201cwithin the jurisdiction of such court.\\u201d Certain statutes give the courts jurisdiction in elections matters, e.g., RSA 64:6 and RSA 68:11. The latter statute however specifically excludes cases of \\u201ccontested elections for the offices of United States senator, representatives in congress, state senator or representative to the general court in view of the constitutional provisions vesting in both houses of congress and both houses of the general court exclusive jurisdiction over the elections and qualifications of their respective members.\\u201d\\nTraditionally our courts have not taken jurisdiction over disputes involving elections to legislative bodies either state or federal. We find no statutory authority under RSA 68:4 II or any other jurisdictional statute or any binding precedent which gives the superior court jurisdiction to invalidate an election to the Senate of the United States.\\nThe answer to question 1 is therefore \\u201cNo\\u201d and it is unnecessary to answer the remaining questions transferred.\\nRemanded.\" \n",
      "\n"
     ]
    }
   ],
   "source": [
    "for doc in documents[:1]:\n",
    "    print(doc.metadata, \"\\n\")\n",
    "    print(doc.page_content, \"\\n\")"
   ]
  },
  {
   "cell_type": "markdown",
   "metadata": {},
   "source": [
    "## Building the Document Database\n",
    "\n",
    "We'll use the caselaw document database to retrieve the full text of the cases by case id."
   ]
  },
  {
   "cell_type": "markdown",
   "metadata": {},
   "source": [
    "### Create the database file and document table"
   ]
  },
  {
   "cell_type": "code",
   "execution_count": 53,
   "metadata": {},
   "outputs": [],
   "source": [
    "# # put the json objects in a sqlite database, keyed by id\n",
    "# import sqlite3, os, json\n",
    "\n",
    "# # remove database file if exists\n",
    "# if os.path.isfile('data.db'):\n",
    "#     os.remove('data.db')\n",
    "\n",
    "# conn = sqlite3.connect('data.db')\n",
    "# c = conn.cursor()\n",
    "\n",
    "# # create the table if it doesn't exist. include id, text, and size\n",
    "# c.execute('''CREATE TABLE IF NOT EXISTS data\n",
    "#              (id INTEGER PRIMARY KEY UNIQUE,\n",
    "#               metadata TEXT,\n",
    "#               text TEXT,\n",
    "#               char_count INTEGER)''')\n"
   ]
  },
  {
   "cell_type": "markdown",
   "metadata": {},
   "source": [
    "### Insert the documents into the table"
   ]
  },
  {
   "cell_type": "code",
   "execution_count": 54,
   "metadata": {},
   "outputs": [],
   "source": [
    "# for doc in documents:\n",
    "#     id = doc.metadata[\"id\"]\n",
    "#     c.execute(\"INSERT INTO data (id, metadata, text, char_count) VALUES (?,?,?,?)\", (id, json.dumps(doc.metadata), doc.page_content, doc.metadata[\"char_count\"]))\n",
    "#     conn.commit()"
   ]
  },
  {
   "cell_type": "markdown",
   "metadata": {},
   "source": [
    "### Count the documents"
   ]
  },
  {
   "cell_type": "code",
   "execution_count": 55,
   "metadata": {},
   "outputs": [],
   "source": [
    "# c.execute(\"SELECT count(*) FROM data\")\n",
    "# doc_count = c.fetchone()[0]\n",
    "# print(f\"Document count: {doc_count}\")"
   ]
  },
  {
   "cell_type": "markdown",
   "metadata": {
    "jupyter": {
     "outputs_hidden": false
    },
    "pycharm": {
     "name": "#%% md\n"
    }
   },
   "source": [
    "## Extracting the entities\n",
    "\n",
    "In this example, we take the caselaw text, split it into chunks, and extract entities from each chunk. "
   ]
  },
  {
   "cell_type": "markdown",
   "metadata": {},
   "source": [
    "### Split the document into chunks\n",
    "\n",
    "Split the document into text chunks that can fit into the model's context window."
   ]
  },
  {
   "cell_type": "code",
   "execution_count": 112,
   "metadata": {
    "jupyter": {
     "outputs_hidden": false
    },
    "pycharm": {
     "name": "#%%\n"
    }
   },
   "outputs": [
    {
     "name": "stdout",
     "output_type": "stream",
     "text": [
      "Case 4440632: 1\n",
      "Case 4441078: 3\n"
     ]
    }
   ],
   "source": [
    "from langchain.text_splitter import TokenTextSplitter\n",
    "\n",
    "num_docs = 30\n",
    "doc_chunks = {}\n",
    "documents = [doc for doc in documents[:num_docs] if doc.metadata[\"id\"] in ['4440632', '4441078']]\n",
    "\n",
    "# Split the documents into chunks\n",
    "text_splitter = TokenTextSplitter(chunk_size=1000, chunk_overlap=50)\n",
    "for doc in documents:\n",
    "    id = doc.metadata[\"id\"]\n",
    "    chunks = text_splitter.split_documents([doc])\n",
    "    doc_chunks[id] = chunks\n",
    "    print(f\"Case {id}: \" + str(len(chunks)))"
   ]
  },
  {
   "cell_type": "markdown",
   "metadata": {},
   "source": [
    "### Inspect the chunks"
   ]
  },
  {
   "cell_type": "code",
   "execution_count": 115,
   "metadata": {},
   "outputs": [
    {
     "name": "stdout",
     "output_type": "stream",
     "text": [
      "{\n",
      "    \"id\": \"4441078\",\n",
      "    \"name\": \"Dana A. Desrochers v. Real J. Desrochers\",\n",
      "    \"name_abbreviation\": \"Desrochers v. Desrochers\",\n",
      "    \"decision_date\": \"1975-10-31\",\n",
      "    \"docket_number\": \"No. 7135\",\n",
      "    \"first_page\": 591,\n",
      "    \"last_page\": \"595\",\n",
      "    \"citations\": \"115 N.H. 591\",\n",
      "    \"volume\": \"115\",\n",
      "    \"reporter\": \"New Hampshire Reports\",\n",
      "    \"court\": \"New Hampshire Supreme Court\",\n",
      "    \"jurisdiction\": \"New Hampshire\",\n",
      "    \"last_updated\": \"2021-08-10T17:25:43.934256+00:00\",\n",
      "    \"provenance\": \"CAP\",\n",
      "    \"judges\": \"All concurred.\",\n",
      "    \"parties\": \"Dana A. Desrochers v. Real J. Desrochers\",\n",
      "    \"head_matter\": \"Hillsborough\\nNo. 7135\\nDana A. Desrochers v. Real J. Desrochers\\nOctober 31, 1975\\nCraig, Wenners, Craig Si McDowell (Mr. Joseph F. McDowell III orally) for the plaintiff.\\nClifford J. Ross, by brief and orally, for the defendant.\",\n",
      "    \"word_count\": \"1466\",\n",
      "    \"char_count\": \"8963\"\n",
      "}\n",
      "\"Kenison, C.J.\\nThe parties married in September 1970. Their only child, a daughter, was born in January 1973. The parties separated in May of that year and the wife brought this libel for divorce the following September. A month later the parties agreed to and the court approved arrangements for custody, visitation and support. The defendant did not support his wife and child from the time of separation until the temporary decree. He made the payments called for by the decree from its entry until June 1975. In July 1974, the Hillsborough County Superior Court, Loughlin, J., held a hearing and made certain findings of fact. The critical portion of these findings is: \\u201c[T]he action was originally brought because the defendant did not work steadily and stated that he, when he learned that the plaintiff was pregnant, wanted a boy instead of a girl; if the plaintiff bore a girl he would like to put the child up for adoption. After the birth of the child [a daughter] the defendant became very attached to the child, has visited the child weekly except on two occasions, and has been faithfully making support payments under the temporary order of $25.00 a week. The defendant claims that he loves his wife, does not want a divorce. The wife claims that she no longer loves her husband, but since the filing of the divorce he has been an industrious worker and is very attached to the child.\\u201d The superior court transferred without ruling the question \\u201cwhether, on all the findings of fact, cause exists for granting a divorce under the provisions of RSA 458:7-a.\\u201d This appeal was argued in September 1975. At the argument, counsel informed the court that the defendant had stopped making support payments and had gone to Nevada in June 1975. At that time he had written to his attorney expressing his desire to remain married.\\nRSA 458:7-a (Supp. 1973) provides: \\u201cA divorce from the bonds of matrimony shall be decreed, irrespective of the fault of either party, on the ground of irreconcilable differences which have caused the irremediable breakdown of the marriage. In any pleading or hearing of a libel for divorce under this section, allegations or evidence of specific acts of misconduct shall be improper and inadmissible, except where child custody is in issue and such evidence is relevant to establish that parental custody would be detrimental to the child or at a hearing where it is determined by the court to be necessary to establish the existence of irreconcilable differences. If, upon hearing of an action for divorce under this section, both parties are found to have committed an act or acts which justify a finding of irreconcilable differences, a divorce shall be decreed and the acts of one party shall not negate the acts of the other nor bar the divorce decree.\\u201d This section must be applied in conjunction with RSA 458:7-b (Supp. 1973) which precludes divorce when \\u201cthere is a likelihood for rehabilitation of the marriage relationship\\u201d or when \\u201cthere is a reasonable possibility of reconciliation.\\u201d Woodruff v. Woodruff, 114 N.H. 365, 367-68, 320 A.2d 661, 663 (1974).\\nRSA 458:7-a (Supp. 1973) is the product of a national discussion regarding the proper grounds for divorce. It follows in important respects the California Family Law Act of 1969. That statute, and others following it, have been criticized for vagueness, but have been held to be sufficiently definite to afford due process of law. Ryan v. Ryan, 277 So. 2d 266 (Fla. 1973); In re Marriage of Walton, 28 Cal. App. 3d 108, 104 Cal. Rptr. 472 (1972). A consensus has emerged that a period of separation due to marital difficulties is strong evidence of the irremediable breakdown of a marriage. Cf. RSA 458:7 VI through XIII. These developments can be traced in the following commentaries: Bodenheimer, Reflections on the Future of Grounds for Divorce, 8 J. Fam. L. 179, 198-207 (1968); Foster and Freed, Divorce Reform: Brakes on Breakdown?, 13 J. Fam. L. 443, 448-53 (1973); Zuckman, The ABA Family Law Section v. The NCCUSL: Alienation, Separation and Forced Reconciliation over the Uniform Marriage and Divorce Act, 24 Cath. U.L. Rev. 61 (1974); and Annot., 55 A.L.R.3d 581 (1974). When asked to interpret a statute similar to RSA 458:7-a, the Florida Court of Appeal stated: \\u201cThe\n",
      ". 61 (1974); and Annot., 55 A.L.R.3d 581 (1974). When asked to interpret a statute similar to RSA 458:7-a, the Florida Court of Appeal stated: \\u201cThe Legislature has not seen fit to promulgate guidelines as to what constitutes an \\u2018irretrievably broken\\u2019 marriage. It is suggested that this lack of definitive direction was deliberate and is desirable in an area as volatile as a proceeding for termination of the marital status. Consideration should be given to each case individually and predetermined policy should not be circumscribed by the appellate courts of this State.\\n\\u201cThus, we are hesitant to set forth specific circumstances which trial courts could utilize as permissible indices of an irretrievable breakdown of the marital status. Were we to attempt to do so, we feel that the basic purpose of the new dissolution of marriage law would be frustrated. Such proceedings would either again become primarily adversary in nature or persons would again fit themselves into tailor-made categories or circumstances to fit judicially defined breakdown situations. It is our opinion that these two problems are the very ones which the Legislature intended to eliminate.\\u201d Riley v. Riley, 271 So. 2d 181, 183 (Fla. App. 1972).\\nThe existence of irreconcilable differences which have caused the irremediable breakdown of the marriage is determined by reference to the subjective state of mind of the parties. Woodruff v. Woodruff, 114 N.H. 365, 367, 320 A.2d 661, 663 (1974). While the desire of one spouse to continue the marriage is evidence of \\u201ca reasonable possibility of reconciliation,\\u201d it is not a bar to divorce. If one spouse resolutely refuses to continue and it is clear from the passage of time or other circumstances that there is no reasonable possibility of a change of heart, there is an irremediable breakdown of the marriage. H. Clark, Jr., Domestic Relations \\u00a7 12.5, at 351 (1968); Comment, Irreconcilable Differences: California Courts Respond to No-fault Dissolutions, 7 Loyola of L.A.L. Rev. 453, 459-60, 466, 485 et seq. (1974). The defendant may attempt to impeach the plaintiff\\u2019s evidence of his or her state of mind regarding the relationship. If the trial court doubts plaintiff\\u2019s evidence that the marriage has irremediably broken down, the court may continue the action to determine if reconciliation is possible. However, if the parties do not reconcile, dissolution should be granted.\\nKnowledge of the sources of marital discord is helpful in determining whether a breakdown is irremediable or whether there is a reasonable possibility of reconciliation. Yet the statutory test is the existing state of the marriage. The statute authorizes the trial court to receive evidence of specific acts of misconduct where it is determined by the court to be necessary to establish the existence of irreconcilable differences. This authority is an exception to the general rule of the statute excluding such evidence, and the intent of the statute to minimize the acrimony attending divorce proceedings.\\nThe question whether a breakdown of a marriage is irremediable is a question to be determined by the trial court. Woodruff v. Woodruff, 114 N.H. 365, 367, 320 A.2d 661, 663 (1974). RSA 458:7-a contemplates the introduction of factual testimony sufficient to permit a finding of irreconcilable differences which have caused the irremediable breakdown of the marriage. Rodrique v. Rodrique, 113 N.H. 49, 52, 300 A.2d 312, 314 (1973). Nevertheless there are limits to the inquiry. \\u201cIn the first place, there is the natural tendency to withhold information of a personal nature from anyone but a trusted and discreet adviser; secondly, any probing into personal matters against the wishes of the party examined would be objectionable ...; and thirdly, the parties have come to court for a purpose. Their answers, which may be perfectly honest ones, will inevitably be slanted in the direction of their ultimate goal, which is divorce.\\u201d Bodenheimer, supra at 200. Within these limits the trial court must be adequately informed before acting in matters of such importance. But the statute does not contemplate a complete biopsy of the marriage relationship from the beginning to the end in every case. This is a difficult task, butjudges face similar problems in other cases. See Ballou v. Ballou, 95 N.H. 105, 58 A.2d 311 (1948).\\nThe separation of the parties for two and one-half years and the plaintiff\\u2019s persistence\n",
      " other cases. See Ballou v. Ballou, 95 N.H. 105, 58 A.2d 311 (1948).\\nThe separation of the parties for two and one-half years and the plaintiff\\u2019s persistence in seeking a divorce during that period is evidence from which the trial court could find that this marriage has irremediably broken down.\\nRemanded.\\nAll concurred.\"\n"
     ]
    }
   ],
   "source": [
    "import json\n",
    "for doc in documents[1:2]:\n",
    "    id = doc.metadata[\"id\"]\n",
    "    print(json.dumps(doc.metadata, indent=4))\n",
    "    for chunk in doc_chunks[id]:\n",
    "        print(chunk.page_content)"
   ]
  },
  {
   "cell_type": "markdown",
   "metadata": {},
   "source": [
    "We can see from this output that the \"judge\" in the metadata is not reliable, so we will pick that entity out of the text."
   ]
  },
  {
   "cell_type": "markdown",
   "metadata": {},
   "source": [
    "# Provide taxonomy of entities\n",
    "\n",
    "An LLM may produce this with the prompt:\n",
    "\n",
    "```\n",
    "I am building a knowledge graph from legal case law. What are the entities I should extract for this knowledge graph?\n",
    "Prefix the major categories with numbers, and the minor categories with letters.\n",
    "```"
   ]
  },
  {
   "cell_type": "markdown",
   "metadata": {},
   "source": [
    "## Extracting Entities"
   ]
  },
  {
   "cell_type": "markdown",
   "metadata": {},
   "source": [
    "### Provide a list of entity categories"
   ]
  },
  {
   "cell_type": "code",
   "execution_count": 176,
   "metadata": {},
   "outputs": [],
   "source": [
    "\n",
    "query = \"\"\"\\\n",
    "<|start_of_role|>system<|end_of_role|>\n",
    "Below is a list of entity categories:\n",
    "\n",
    "Counsel for Plaintiff/Petitioner: The attorney or law firm representing the plaintiff/petitioner.\n",
    "Counsel for Defendant/Respondent: The attorney or law firm representing the defendant/respondent.\n",
    "Judge/Justice: The name of the judge or justice involved in the case, including their role (e.g., trial judge, appellate judge, presiding justice).\n",
    "Statute/Act: The statute or act referenced or applied in the case (e.g., \"Civil Rights Act of 1964\").\n",
    "Precedent Cited: Previous case law referred to in the case.\n",
    "Constitutional Provision: The constitutional article or amendment referenced in the case (e.g., \"First Amendment,\" \"Article III\").\n",
    "Decision/Holding: The final judgment of the court (e.g., \"Affirmed,\" \"Reversed\").\n",
    "Disposition: The outcome of the case (e.g., \"dismissed with prejudice,\" \"remanded\").\n",
    "Remedy: Type of compensation or relief provided (e.g., \"compensatory damages,\" \"injunctive relief\").\n",
    "Sentence: In a criminal case, the sentence handed down (e.g., \"5 years imprisonment\").\n",
    "\n",
    "Given this list of entity categories, you will be asked to extract entities belonging to these categories from a text passage.\n",
    "Consider only the list of entity categories above; do not extract any additional entities. For each entity found, list the category and the entity, separated by a semicolon. Do not use the words \"Entity\" or \"Category\".\n",
    "\n",
    "Here are some examples:\n",
    "1. Remedy: Compensatory Damages\n",
    "2. Counsel for Defendant/Respondent: Jane C.\n",
    "3. Precedent Cited: State vs. Tiger\n",
    "<|end_of_text|>\n",
    "<|start_of_role|>user<|end_of_role|>\n",
    "Find the entities in the following text, and list them in the format specified above:\n",
    "\n",
    "{}\n",
    "<|end_of_text|>\n",
    "<|start_of_role|>assistant<|end_of_role|>\"\"\"\n"
   ]
  },
  {
   "cell_type": "markdown",
   "metadata": {},
   "source": [
    "### Extract entities from each chunk of text"
   ]
  },
  {
   "cell_type": "code",
   "execution_count": 177,
   "metadata": {},
   "outputs": [
    {
     "name": "stdout",
     "output_type": "stream",
     "text": [
      "Chunk 0 of 4440632\n",
      "841 tokens\n",
      "1. Disposition: Exception Overruled\n",
      "2. Judge or Justice: Kenison, C.J. (did not sit)\n",
      "3. Statute or Act: Not explicitly mentioned\n",
      "4. Precedent Cited: State v. Costello, 110 N.H. 182, 263 A.2d 671 (1970); State v. Allen, 114 N.H. 682, 327 A.2d 715 (1974)\n",
      "5. Decision or Holding: Not explicitly mentioned\n",
      "6. Counsel for Defendant/Respondent: Not explicitly mentioned\n",
      "7. Counsel for Plaintiff/Petitioner: Not explicitly mentioned\n",
      "8. Remedy: Not explicitly mentioned\n",
      "9. Sentence: Not applicable (criminal case)\n",
      "Chunk 0 of 4441078\n",
      "1787 tokens\n",
      "1. Counsel for Plaintiff/Petitioner: Not explicitly mentioned in the text.\n",
      "2. Counsel for Defendant/Respondent: Not explicitly mentioned in the text.\n",
      "3. Judge or Justice: Kenison, C.J.\n",
      "4. Statute or Act: RSA 458:7-a (Supp. 1973)\n",
      "5. Precedent Cited: Not explicitly mentioned in the text.\n",
      "6. Constitutional Provision: Not explicitly mentioned in the text.\n",
      "7. Decision or Holding: Not explicitly mentioned in the text.\n",
      "8. Disposition: Not explicitly mentioned in the text.\n",
      "9. Remedy: Not explicitly mentioned in the text.\n",
      "10. Sentence: Not explicitly mentioned in the text.\n",
      "Chunk 1 of 4441078\n",
      "1759 tokens\n",
      "1. Counsel for Plaintiff or Petitioner: Not explicitly mentioned in the text.\n",
      "2. Counsel for Defendant or Respondent: Not explicitly mentioned in the text.\n",
      "3. Judge or Justice: Not explicitly mentioned in the text.\n",
      "4. Statute or Act: RSA 458:7-a\n",
      "5. Precedent Cited: Riley v. Riley, 271 So. 2d 181, 183 (Fla. App. 1972)\n",
      "6. Constitutional Provision: Not explicitly mentioned in the text.\n",
      "7. Decision or Holding: Not explicitly mentioned in the text.\n",
      "8. Disposition: Not explicitly mentioned in the text.\n",
      "9. Remedy: Not explicitly mentioned in the text.\n",
      "10. Sentence: Not explicitly mentioned in the text.\n",
      "Chunk 2 of 4441078\n",
      "567 tokens\n",
      "1. Precedent Cited: Ballou v. Ballou\n",
      "2. Decision or Holding: Remanded\n",
      "3. Disposition: Remanded\n",
      "4. Counsel for Plaintiff or Petitioner: not explicitly mentioned\n",
      "5. Counsel for Defendant or Respondent: not explicitly mentioned\n",
      "6. Judge or Justice: not explicitly mentioned\n",
      "7. Statute or Act: not explicitly mentioned\n",
      "8. Constitutional Provision: not explicitly mentioned\n",
      "9. Remedy: not explicitly mentioned\n",
      "10. Sentence: not applicable (this is a civil case)\n"
     ]
    }
   ],
   "source": [
    "doc_extracts = {}\n",
    "for doc in documents:\n",
    "    id = doc.metadata['id']\n",
    "    extracts = []\n",
    "    for i, chunk in enumerate(doc_chunks[id]):\n",
    "        print(f\"Chunk {i} of {id}\")\n",
    "        full_query = query.format(chunk.page_content)\n",
    "        print(str(len(tokenizer.tokenize(full_query))) + \" tokens\")\n",
    "        response = model.invoke(full_query, max_tokens=1000)\n",
    "        print(response)\n",
    "        extracts.append(response)\n",
    "\n",
    "    doc_extracts[id] = extracts"
   ]
  },
  {
   "cell_type": "markdown",
   "metadata": {},
   "source": [
    "### Construct Graph Triples\n",
    "\n",
    "Using the extracted entities along with the text chunk, construct graph triples."
   ]
  },
  {
   "cell_type": "code",
   "execution_count": 205,
   "metadata": {},
   "outputs": [
    {
     "name": "stdout",
     "output_type": "stream",
     "text": [
      "Case 4440632\n",
      "('Disposition', 'Exception Overruled', 'State v. Craigue')\n",
      "('Judge or Justice', 'Kenison, C.J. (did not sit)', 'State v. Craigue')\n",
      "('Precedent Cited', 'State v. Costello, 110 N.H. 182, 263 A.2d 671 (1970); State v. Allen, 114 N.H. 682, 327 A.2d 715 (1974)', 'State v. Craigue')\n",
      "('Court', 'New Hampshire Supreme Court', 'State v. Craigue')\n",
      "Case 4441078\n",
      "('Judge or Justice', 'Kenison, C.J.', 'Desrochers v. Desrochers')\n",
      "('Statute or Act', 'RSA 458:7-a (Supp. 1973)', 'Desrochers v. Desrochers')\n",
      "('Statute or Act', 'RSA 458:7-a', 'Desrochers v. Desrochers')\n",
      "('Precedent Cited', 'Riley v. Riley, 271 So. 2d 181, 183 (Fla. App. 1972)', 'Desrochers v. Desrochers')\n",
      "('Precedent Cited', 'Ballou v. Ballou', 'Desrochers v. Desrochers')\n",
      "('Decision or Holding', 'Remanded', 'Desrochers v. Desrochers')\n",
      "('Disposition', 'Remanded', 'Desrochers v. Desrochers')\n",
      "('Court', 'New Hampshire Supreme Court', 'Desrochers v. Desrochers')\n"
     ]
    }
   ],
   "source": [
    "def get_triples_from_extract(extract, case_name):\n",
    "    triples = []\n",
    "    lines = extract.splitlines()\n",
    "    for line in lines:\n",
    "        try:\n",
    "            entity, role = line.split(\": \", 2)\n",
    "            triple = (entity.split(\". \", 1)[1], role, case_name)\n",
    "            triples.append(triple)\n",
    "        except ValueError:\n",
    "            print(f\"Error parsing case {id} line: {line}\")\n",
    "    return triples\n",
    "\n",
    "doc_triples = {}\n",
    "for doc in documents:\n",
    "    id = doc.metadata['id']\n",
    "    name = doc.metadata['name_abbreviation']\n",
    "    triples = []\n",
    "    for i, extract in enumerate(doc_extracts[id]):\n",
    "        # Break response up into entity triples.\n",
    "        new_triples = get_triples_from_extract(extract, name);\n",
    "        triples.extend(new_triples)\n",
    "    # Add triples from metadata.\n",
    "    triples.append(('Court', doc.metadata[\"court\"], name))\n",
    "\n",
    "    # Add to triples for the document.\n",
    "    if id in doc_triples:\n",
    "        doc_triples[id].append(triples)\n",
    "    else:\n",
    "        doc_triples[id] = triples\n",
    "\n",
    "all_triples = []\n",
    "for id, triples in doc_triples.items():\n",
    "    print(f\"Case {id}\")\n",
    "    for triple in triples:\n",
    "        r = triple[1].lower()\n",
    "        if \"not explicitly mentioned\" not in r and \"not applicable\" not in r:\n",
    "            all_triples.append(triple)\n",
    "            print(triple)\n"
   ]
  },
  {
   "cell_type": "markdown",
   "metadata": {},
   "source": [
    "## Building the Graph Database"
   ]
  },
  {
   "cell_type": "markdown",
   "metadata": {},
   "source": [
    "### Define methods"
   ]
  },
  {
   "cell_type": "code",
   "execution_count": 228,
   "metadata": {},
   "outputs": [
    {
     "name": "stderr",
     "output_type": "stream",
     "text": [
      "/var/folders/nc/jrql4k0n2j73h7xktzxdr4pr0000gn/T/ipykernel_89211/3584378729.py:27: DeprecationWarning: write_transaction has been renamed to execute_write\n",
      "  session.write_transaction(create_graph, entity1, role, case)\n"
     ]
    },
    {
     "name": "stdout",
     "output_type": "stream",
     "text": [
      "Nodes in the graph:\n",
      "Exception Overruled\n",
      "State v. Craigue\n",
      "Kenison, C.J. (did not sit)\n",
      "State v. Costello, 110 N.H. 182, 263 A.2d 671 (1970); State v. Allen, 114 N.H. 682, 327 A.2d 715 (1974)\n",
      "New Hampshire Supreme Court\n",
      "Kenison, C.J.\n",
      "RSA 458:7-a (Supp. 1973)\n",
      "RSA 458:7-a\n",
      "Riley v. Riley, 271 So. 2d 181, 183 (Fla. App. 1972)\n",
      "Ballou v. Ballou\n",
      "Remanded\n",
      "Desrochers v. Desrochers\n",
      "\n",
      "Relationships in the graph:\n",
      "Kenison, C.J. -[judge_or_justice]-> Desrochers v. Desrochers\n",
      "RSA 458:7-a (Supp. 1973) -[statute_or_act]-> Desrochers v. Desrochers\n",
      "RSA 458:7-a -[statute_or_act]-> Desrochers v. Desrochers\n",
      "Riley v. Riley, 271 So. 2d 181, 183 (Fla. App. 1972) -[precedent_cited]-> Desrochers v. Desrochers\n",
      "Ballou v. Ballou -[precedent_cited]-> Desrochers v. Desrochers\n",
      "Remanded -[decision_or_holding]-> Desrochers v. Desrochers\n",
      "Remanded -[disposition]-> Desrochers v. Desrochers\n",
      "New Hampshire Supreme Court -[court]-> Desrochers v. Desrochers\n",
      "Exception Overruled -[disposition]-> State v. Craigue\n",
      "Kenison, C.J. (did not sit) -[judge_or_justice]-> State v. Craigue\n",
      "State v. Costello, 110 N.H. 182, 263 A.2d 671 (1970); State v. Allen, 114 N.H. 682, 327 A.2d 715 (1974) -[precedent_cited]-> State v. Craigue\n",
      "New Hampshire Supreme Court -[court]-> State v. Craigue\n",
      "Graph successfully built and queried in Neo4j!\n"
     ]
    }
   ],
   "source": [
    "from neo4j import GraphDatabase\n",
    "from stringcase import snakecase, lowercase\n",
    "\n",
    "# Define the list of (entity, relationship, entity) triples\n",
    "triples = all_triples\n",
    "\n",
    "# Connect to the Neo4j database\n",
    "uri = get_env_var(\"NEO4J_URI\")\n",
    "username = get_env_var(\"NEO4J_USERNAME\")\n",
    "password = get_env_var(\"NEO4J_PASSWORD\")\n",
    "driver = GraphDatabase.driver(uri, auth=(username, password))\n",
    "\n",
    "def create_graph(tx, entity1, role, case):\n",
    "    query = (\n",
    "        \"MERGE (a:Entity {name: $entity1}) \"\n",
    "        \"MERGE (c:Case {name: $case}) \"\n",
    "        \"MERGE (a)-[r:%s]->(c)\"\n",
    "    ) % snakecase(lowercase(role.replace('/', '_')))\n",
    "    tx.run(query, entity1=entity1, case=case)\n",
    "\n",
    "def build_graph(triples):\n",
    "    with driver.session() as session:\n",
    "        # Empty the graph first\n",
    "        session.run(\"MATCH (n) DETACH DELETE n\")\n",
    "        # Fill the graph\n",
    "        for role, entity1, case in triples:\n",
    "            session.write_transaction(create_graph, entity1, role, case)\n",
    "\n",
    "def query_graph():\n",
    "    with driver.session() as session:\n",
    "        # Query to find all nodes\n",
    "        result = session.run(\"MATCH (n) RETURN n.name AS name\")\n",
    "        print(\"Nodes in the graph:\")\n",
    "        for record in result:\n",
    "            print(record[\"name\"])\n",
    "\n",
    "        # Query to find all relationships\n",
    "        result = session.run(\"MATCH (a)-[r]->(b) RETURN a.name AS from, type(r) AS rel, b.name AS to\")\n",
    "        print(\"\\nRelationships in the graph:\")\n",
    "        for record in result:\n",
    "            print(f\"{record['from']} -[{record['rel']}]-> {record['to']}\")\n",
    "\n",
    "# Build the graph from the triples list\n",
    "build_graph(triples)\n",
    "\n",
    "# Issue some basic queries against the graph\n",
    "query_graph()\n",
    "\n",
    "# Close the connection to the database\n",
    "driver.close()\n",
    "\n",
    "print(\"Graph successfully built and queried in Neo4j!\")"
   ]
  },
  {
   "cell_type": "code",
   "execution_count": 229,
   "metadata": {},
   "outputs": [
    {
     "name": "stdout",
     "output_type": "stream",
     "text": [
      "Nodes in the graph:\n",
      "Riley v. Riley, 271 So. 2d 181, 183 (Fla. App. 1972)\n",
      "Ballou v. Ballou\n",
      "State v. Costello, 110 N.H. 182, 263 A.2d 671 (1970); State v. Allen, 114 N.H. 682, 327 A.2d 715 (1974)\n"
     ]
    }
   ],
   "source": [
    "driver = GraphDatabase.driver(uri, auth=(username, password))\n",
    "with driver.session() as session:\n",
    "    # Query to find all nodes\n",
    "    result = session.run(\"MATCH (a)-[:precedent_cited]->() RETURN a.name AS name\")\n",
    "    print(\"Nodes in the graph:\")\n",
    "    for record in result:\n",
    "        print(record[\"name\"])"
   ]
  },
  {
   "cell_type": "markdown",
   "metadata": {},
   "source": [
    "## Populate a vector database with entities"
   ]
  },
  {
   "cell_type": "code",
   "execution_count": 230,
   "metadata": {},
   "outputs": [],
   "source": [
    "from langchain_huggingface import HuggingFaceEmbeddings\n",
    "\n",
    "embeddings_model = HuggingFaceEmbeddings(model_name=\"all-MiniLM-L6-v2\")"
   ]
  },
  {
   "cell_type": "code",
   "execution_count": 193,
   "metadata": {},
   "outputs": [],
   "source": [
    "from langchain_chroma import Chroma\n",
    "\n",
    "vector_db = Chroma(embedding_function=embeddings_model)"
   ]
  },
  {
   "cell_type": "code",
   "execution_count": 227,
   "metadata": {},
   "outputs": [
    {
     "name": "stdout",
     "output_type": "stream",
     "text": [
      "None\n"
     ]
    }
   ],
   "source": [
    "vector_db._collection.metadata\n",
    "print(vector_db._collection.metadata)"
   ]
  },
  {
   "cell_type": "code",
   "execution_count": 210,
   "metadata": {},
   "outputs": [
    {
     "name": "stdout",
     "output_type": "stream",
     "text": [
      "Nodes in the graph:\n",
      "Exception Overruled\n",
      "State v. Craigue\n",
      "New Hampshire Supreme Court\n",
      "Kenison, C.J.\n",
      "Desrochers v. Desrochers\n",
      "RSA 458:7-a (Supp. 1973)\n",
      "RSA 458:7-a\n",
      "Riley v. Riley, 271 So. 2d 181, 183 (Fla. App. 1972)\n",
      "Ballou v. Ballou\n",
      "Remanded\n",
      "Kenison, C.J. (did not sit)\n",
      "State v. Costello, 110 N.H. 182, 263 A.2d 671 (1970); State v. Allen, 114 N.H. 682, 327 A.2d 715 (1974)\n",
      "Documents added:  12\n"
     ]
    }
   ],
   "source": [
    "from langchain.docstore.document import Document\n",
    "\n",
    "names = []\n",
    "with driver.session() as session:\n",
    "    # Query to find all nodes\n",
    "    result = session.run(\"MATCH (n) RETURN n.name AS name\")\n",
    "    print(\"Nodes in the graph:\")\n",
    "    for record in result:\n",
    "        doc = Document(record[\"name\"])\n",
    "        names.append(doc)\n",
    "        print(record[\"name\"])\n",
    "\n",
    "ids = vector_db.add_documents(names)\n",
    "print(\"Documents added: \", len(ids))\n"
   ]
  },
  {
   "cell_type": "markdown",
   "metadata": {},
   "source": [
    "## Answer questions"
   ]
  },
  {
   "cell_type": "markdown",
   "metadata": {},
   "source": [
    "### Extract entities from question\n",
    "\n",
    "This is one type of question that can be asked. We will find cases with these entities in common."
   ]
  },
  {
   "cell_type": "code",
   "execution_count": 237,
   "metadata": {},
   "outputs": [
    {
     "name": "stdout",
     "output_type": "stream",
     "text": [
      "1. Judge or Justice: Judge Kenison;\n",
      "2. Precedent Cited: Ballou v. Ballou.\n",
      "[('Judge or Justice', 'Judge Kenison;', ''), ('Precedent Cited', 'Ballou v. Ballou.', '')]\n"
     ]
    }
   ],
   "source": [
    "question = \"How has Judge Kenison used Ballou v. Ballou to rule on cases?\"\n",
    "\n",
    "response = model.invoke(query.format(question))\n",
    "print(response)\n",
    "question_entity_triples = get_triples_from_extract(response, \"\")\n",
    "print(question_entity_triples)\n"
   ]
  },
  {
   "cell_type": "markdown",
   "metadata": {},
   "source": [
    "### Match entities to the graph"
   ]
  },
  {
   "cell_type": "code",
   "execution_count": 242,
   "metadata": {},
   "outputs": [],
   "source": [
    "\n",
    "def match_entity(name, threshold=1.0):\n",
    "    \"\"\"Match entities by embedding vector distance given a similarity threshold. With Chroma, l2 (Euclidean) distance is used.\"\"\"\n",
    "    docs_with_score = vector_db.similarity_search_with_score(name, k=5)\n",
    "    for doc, score in docs_with_score:\n",
    "        # print(f\"{doc.page_content} has a similarity score of {score}\")\n",
    "        next\n",
    "    if len(docs_with_score):\n",
    "        doc, score = docs_with_score[0]\n",
    "        if score <= threshold:\n",
    "            # Return first close match.\n",
    "            return doc.page_content\n",
    "    else:\n",
    "        # No match.\n",
    "        return None\n"
   ]
  },
  {
   "cell_type": "code",
   "execution_count": 224,
   "metadata": {},
   "outputs": [
    {
     "name": "stdout",
     "output_type": "stream",
     "text": [
      "Matching Judge Kenison;\n",
      "Kenison, C.J. has a similarity score of 0.6313690543174744\n",
      "Kenison, C.J. has a similarity score of 0.6313690543174744\n",
      "Kenison, C.J. has a similarity score of 0.6313690543174744\n",
      "Kenison, C.J. (did not sit) has a similarity score of 0.7332189083099365\n",
      "Kenison, C.J. (did not sit) has a similarity score of 0.7332189083099365\n",
      "Kenison, C.J.\n",
      "Matching Ballou v. Ballou.\n",
      "Ballou v. Ballou has a similarity score of 0.016251880675554276\n",
      "Ballou v. Ballou has a similarity score of 0.016251880675554276\n",
      "Ballou v. Ballou has a similarity score of 0.016251880675554276\n",
      "State v. Craigue has a similarity score of 1.601686954498291\n",
      "Desrochers v. Desrochers has a similarity score of 1.622413158416748\n",
      "Ballou v. Ballou\n"
     ]
    }
   ],
   "source": [
    "for triple in question_entity_triples:\n",
    "    name = triple[1]\n",
    "    print(f\"Matching {name}\")\n",
    "    match = match_entity(name)\n",
    "    if match is not None:\n",
    "        print(match)"
   ]
  },
  {
   "cell_type": "markdown",
   "metadata": {},
   "source": [
    "### Query the graph for cases"
   ]
  },
  {
   "cell_type": "markdown",
   "metadata": {},
   "source": [
    "Single entity:"
   ]
  },
  {
   "cell_type": "code",
   "execution_count": 247,
   "metadata": {},
   "outputs": [
    {
     "name": "stdout",
     "output_type": "stream",
     "text": [
      "MATCH (e:Entity {name: 'Kenison, C.J.'})-[:judge_or_justice]->(c:Case) RETURN c.name AS name\n",
      "Cases:\n",
      "Desrochers v. Desrochers\n",
      "MATCH (e:Entity {name: 'Ballou v. Ballou'})-[:precedent_cited]->(c:Case) RETURN c.name AS name\n",
      "Cases:\n",
      "Desrochers v. Desrochers\n"
     ]
    }
   ],
   "source": [
    "def query_for_cases(entity_name, role):\n",
    "    with driver.session() as session:\n",
    "        relationship = snakecase(lowercase(role.replace('/', '_')))\n",
    "        query = f\"MATCH (e:Entity {{name: '{entity_name}'}})-[:{relationship}]->(c:Case) RETURN c.name AS name\"\n",
    "        print(query)\n",
    "        result = session.run(query)\n",
    "        print(\"Cases:\")\n",
    "        for record in result:\n",
    "            print(record[\"name\"])\n",
    "\n",
    "for triple in question_entity_triples:\n",
    "    role, entity, c = triple\n",
    "    entity_match = match_entity(entity)\n",
    "    query_for_cases(entity_match, role)"
   ]
  },
  {
   "cell_type": "markdown",
   "metadata": {},
   "source": [
    "Multiple entities:"
   ]
  },
  {
   "cell_type": "code",
   "execution_count": 257,
   "metadata": {},
   "outputs": [
    {
     "name": "stdout",
     "output_type": "stream",
     "text": [
      "MATCH (e0:Entity {name: 'Kenison, C.J.'})-[:judge_or_justice]->(c)\n",
      "MATCH (e1:Entity {name: 'Ballou v. Ballou'})-[:precedent_cited]->(c)\n",
      "RETURN c.name AS name\n",
      "Cases:\n",
      "Desrochers v. Desrochers\n"
     ]
    }
   ],
   "source": [
    "def query_for_cases(entity_role_pairs):\n",
    "    with driver.session() as session:\n",
    "        query = \"\"\n",
    "        for i, (entity, role) in enumerate(entity_role_pairs):\n",
    "            relationship = snakecase(lowercase(role.replace('/', '_')))\n",
    "            query += f\"MATCH (e{str(i)}:Entity {{name: '{entity}'}})-[:{relationship}]->(c)\\n\"\n",
    "        query += \"RETURN c.name AS name\"\n",
    "        print(query)\n",
    "        result = session.run(query)\n",
    "        print(\"Cases:\")\n",
    "        for record in result:\n",
    "            print(record[\"name\"])\n",
    "\n",
    "entity_role_pairs = []\n",
    "for triple in question_entity_triples:\n",
    "    role, entity, c = triple\n",
    "    entity_match = match_entity(entity)\n",
    "    entity_role_pairs.append((entity_match, role))\n",
    "    \n",
    "query_for_cases(entity_role_pairs)"
   ]
  }
 ],
 "metadata": {
  "kernelspec": {
   "display_name": ".venv",
   "language": "python",
   "name": "python3"
  },
  "language_info": {
   "codemirror_mode": {
    "name": "ipython",
    "version": 3
   },
   "file_extension": ".py",
   "mimetype": "text/x-python",
   "name": "python",
   "nbconvert_exporter": "python",
   "pygments_lexer": "ipython3",
   "version": "3.10.15"
  }
 },
 "nbformat": 4,
 "nbformat_minor": 4
}
