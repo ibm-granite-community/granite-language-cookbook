{
 "cells": [
  {
   "attachments": {},
   "cell_type": "markdown",
   "metadata": {
    "pycharm": {
     "name": "#%% md\n"
    }
   },
   "source": [
    "# Entity Extraction from New Hampshire Case Law\n",
    "*With IBM Granite Models*\n",
    "\n",
    "The [New Hampshire Case Law Dataset](https://huggingface.co/datasets/free-law/nh) comes from the Caselaw Access Project via Hugging Face."
   ]
  },
  {
   "cell_type": "markdown",
   "metadata": {
    "jupyter": {
     "outputs_hidden": false
    },
    "pycharm": {
     "name": "#%% md\n"
    }
   },
   "source": [
    "## In this notebook\n",
    "This notebook contains instructions for performing entity extraction."
   ]
  },
  {
   "cell_type": "markdown",
   "metadata": {},
   "source": [
    "## Prerequisites\n",
    "\n",
    "To get started, you'll need:\n",
    "* A [Replicate account](https://replicate.com/) and API token."
   ]
  },
  {
   "cell_type": "markdown",
   "metadata": {
    "jupyter": {
     "outputs_hidden": false
    },
    "pycharm": {
     "name": "#%% md\n"
    }
   },
   "source": [
    "## Setting up the environment"
   ]
  },
  {
   "cell_type": "markdown",
   "metadata": {
    "jupyter": {
     "outputs_hidden": false
    },
    "pycharm": {
     "name": "#%% md\n"
    }
   },
   "source": [
    "### Install dependencies\n",
    "\n",
    "Granite Kitchen comes with a bundle of dependencies that are required for notebooks. See the list of packages in its [`setup.py`](https://github.com/ibm-granite-community/granite-kitchen/blob/main/setup.py). "
   ]
  },
  {
   "cell_type": "code",
   "execution_count": 37,
   "metadata": {
    "jupyter": {
     "outputs_hidden": false
    },
    "pycharm": {
     "name": "#%%\n"
    }
   },
   "outputs": [
    {
     "name": "stderr",
     "output_type": "stream",
     "text": [
      "huggingface/tokenizers: The current process just got forked, after parallelism has already been used. Disabling parallelism to avoid deadlocks...\n",
      "To disable this warning, you can either:\n",
      "\t- Avoid using `tokenizers` before the fork if possible\n",
      "\t- Explicitly set the environment variable TOKENIZERS_PARALLELISM=(true | false)\n"
     ]
    },
    {
     "name": "stdout",
     "output_type": "stream",
     "text": [
      "Collecting git+https://github.com/ibm-granite-community/utils\n",
      "  Cloning https://github.com/ibm-granite-community/utils to /private/var/folders/nc/jrql4k0n2j73h7xktzxdr4pr0000gn/T/pip-req-build-wsp1x9sv\n",
      "  Running command git clone --filter=blob:none --quiet https://github.com/ibm-granite-community/utils /private/var/folders/nc/jrql4k0n2j73h7xktzxdr4pr0000gn/T/pip-req-build-wsp1x9sv\n",
      "  Resolved https://github.com/ibm-granite-community/utils to commit a4b663310cdc11be2f3039a11d263dae98584582\n",
      "  Installing build dependencies ... \u001b[?25ldone\n",
      "\u001b[?25h  Getting requirements to build wheel ... \u001b[?25ldone\n",
      "\u001b[?25h  Preparing metadata (pyproject.toml) ... \u001b[?25ldone\n",
      "\u001b[?25hRequirement already satisfied: langchain_community<0.3.0 in /Users/fayvor/Dev/granite-legal-cookbook/.venv/lib/python3.10/site-packages (0.2.17)\n",
      "Requirement already satisfied: replicate in /Users/fayvor/Dev/granite-legal-cookbook/.venv/lib/python3.10/site-packages (1.0.1)\n",
      "Requirement already satisfied: datasets in /Users/fayvor/Dev/granite-legal-cookbook/.venv/lib/python3.10/site-packages (3.0.1)\n",
      "Requirement already satisfied: transformers in /Users/fayvor/Dev/granite-legal-cookbook/.venv/lib/python3.10/site-packages (4.45.2)\n",
      "Requirement already satisfied: tiktoken in /Users/fayvor/Dev/granite-legal-cookbook/.venv/lib/python3.10/site-packages (0.8.0)\n",
      "Collecting neo4j\n",
      "  Downloading neo4j-5.25.0-py3-none-any.whl.metadata (5.7 kB)\n",
      "Requirement already satisfied: python-dotenv in /Users/fayvor/Dev/granite-legal-cookbook/.venv/lib/python3.10/site-packages (from ibm_granite_community==0.1.0) (1.0.1)\n",
      "Requirement already satisfied: PyYAML>=5.3 in /Users/fayvor/Dev/granite-legal-cookbook/.venv/lib/python3.10/site-packages (from langchain_community<0.3.0) (6.0.2)\n",
      "Requirement already satisfied: SQLAlchemy<3,>=1.4 in /Users/fayvor/Dev/granite-legal-cookbook/.venv/lib/python3.10/site-packages (from langchain_community<0.3.0) (2.0.35)\n",
      "Requirement already satisfied: aiohttp<4.0.0,>=3.8.3 in /Users/fayvor/Dev/granite-legal-cookbook/.venv/lib/python3.10/site-packages (from langchain_community<0.3.0) (3.10.9)\n",
      "Requirement already satisfied: dataclasses-json<0.7,>=0.5.7 in /Users/fayvor/Dev/granite-legal-cookbook/.venv/lib/python3.10/site-packages (from langchain_community<0.3.0) (0.6.7)\n",
      "Requirement already satisfied: langchain<0.3.0,>=0.2.16 in /Users/fayvor/Dev/granite-legal-cookbook/.venv/lib/python3.10/site-packages (from langchain_community<0.3.0) (0.2.16)\n",
      "Requirement already satisfied: langchain-core<0.3.0,>=0.2.39 in /Users/fayvor/Dev/granite-legal-cookbook/.venv/lib/python3.10/site-packages (from langchain_community<0.3.0) (0.2.41)\n",
      "Requirement already satisfied: langsmith<0.2.0,>=0.1.112 in /Users/fayvor/Dev/granite-legal-cookbook/.venv/lib/python3.10/site-packages (from langchain_community<0.3.0) (0.1.133)\n",
      "Requirement already satisfied: numpy<2,>=1 in /Users/fayvor/Dev/granite-legal-cookbook/.venv/lib/python3.10/site-packages (from langchain_community<0.3.0) (1.26.4)\n",
      "Requirement already satisfied: requests<3,>=2 in /Users/fayvor/Dev/granite-legal-cookbook/.venv/lib/python3.10/site-packages (from langchain_community<0.3.0) (2.32.3)\n",
      "Requirement already satisfied: tenacity!=8.4.0,<9.0.0,>=8.1.0 in /Users/fayvor/Dev/granite-legal-cookbook/.venv/lib/python3.10/site-packages (from langchain_community<0.3.0) (8.5.0)\n",
      "Requirement already satisfied: httpx<1,>=0.21.0 in /Users/fayvor/Dev/granite-legal-cookbook/.venv/lib/python3.10/site-packages (from replicate) (0.27.2)\n",
      "Requirement already satisfied: packaging in /Users/fayvor/Dev/granite-legal-cookbook/.venv/lib/python3.10/site-packages (from replicate) (24.1)\n",
      "Requirement already satisfied: pydantic>1.10.7 in /Users/fayvor/Dev/granite-legal-cookbook/.venv/lib/python3.10/site-packages (from replicate) (2.9.2)\n",
      "Requirement already satisfied: typing-extensions>=4.5.0 in /Users/fayvor/Dev/granite-legal-cookbook/.venv/lib/python3.10/site-packages (from replicate) (4.12.2)\n",
      "Requirement already satisfied: filelock in /Users/fayvor/Dev/granite-legal-cookbook/.venv/lib/python3.10/site-packages (from datasets) (3.16.1)\n",
      "Requirement already satisfied: pyarrow>=15.0.0 in /Users/fayvor/Dev/granite-legal-cookbook/.venv/lib/python3.10/site-packages (from datasets) (17.0.0)\n",
      "Requirement already satisfied: dill<0.3.9,>=0.3.0 in /Users/fayvor/Dev/granite-legal-cookbook/.venv/lib/python3.10/site-packages (from datasets) (0.3.8)\n",
      "Requirement already satisfied: pandas in /Users/fayvor/Dev/granite-legal-cookbook/.venv/lib/python3.10/site-packages (from datasets) (2.1.4)\n",
      "Requirement already satisfied: tqdm>=4.66.3 in /Users/fayvor/Dev/granite-legal-cookbook/.venv/lib/python3.10/site-packages (from datasets) (4.66.5)\n",
      "Requirement already satisfied: xxhash in /Users/fayvor/Dev/granite-legal-cookbook/.venv/lib/python3.10/site-packages (from datasets) (3.5.0)\n",
      "Requirement already satisfied: multiprocess in /Users/fayvor/Dev/granite-legal-cookbook/.venv/lib/python3.10/site-packages (from datasets) (0.70.16)\n",
      "Requirement already satisfied: fsspec<=2024.6.1,>=2023.1.0 in /Users/fayvor/Dev/granite-legal-cookbook/.venv/lib/python3.10/site-packages (from fsspec[http]<=2024.6.1,>=2023.1.0->datasets) (2024.6.1)\n",
      "Requirement already satisfied: huggingface-hub>=0.22.0 in /Users/fayvor/Dev/granite-legal-cookbook/.venv/lib/python3.10/site-packages (from datasets) (0.25.2)\n",
      "Requirement already satisfied: regex!=2019.12.17 in /Users/fayvor/Dev/granite-legal-cookbook/.venv/lib/python3.10/site-packages (from transformers) (2024.9.11)\n",
      "Requirement already satisfied: safetensors>=0.4.1 in /Users/fayvor/Dev/granite-legal-cookbook/.venv/lib/python3.10/site-packages (from transformers) (0.4.5)\n",
      "Requirement already satisfied: tokenizers<0.21,>=0.20 in /Users/fayvor/Dev/granite-legal-cookbook/.venv/lib/python3.10/site-packages (from transformers) (0.20.1)\n",
      "Requirement already satisfied: pytz in /Users/fayvor/Dev/granite-legal-cookbook/.venv/lib/python3.10/site-packages (from neo4j) (2024.2)\n",
      "Requirement already satisfied: aiohappyeyeballs>=2.3.0 in /Users/fayvor/Dev/granite-legal-cookbook/.venv/lib/python3.10/site-packages (from aiohttp<4.0.0,>=3.8.3->langchain_community<0.3.0) (2.4.3)\n",
      "Requirement already satisfied: aiosignal>=1.1.2 in /Users/fayvor/Dev/granite-legal-cookbook/.venv/lib/python3.10/site-packages (from aiohttp<4.0.0,>=3.8.3->langchain_community<0.3.0) (1.3.1)\n",
      "Requirement already satisfied: attrs>=17.3.0 in /Users/fayvor/Dev/granite-legal-cookbook/.venv/lib/python3.10/site-packages (from aiohttp<4.0.0,>=3.8.3->langchain_community<0.3.0) (24.2.0)\n",
      "Requirement already satisfied: frozenlist>=1.1.1 in /Users/fayvor/Dev/granite-legal-cookbook/.venv/lib/python3.10/site-packages (from aiohttp<4.0.0,>=3.8.3->langchain_community<0.3.0) (1.4.1)\n",
      "Requirement already satisfied: multidict<7.0,>=4.5 in /Users/fayvor/Dev/granite-legal-cookbook/.venv/lib/python3.10/site-packages (from aiohttp<4.0.0,>=3.8.3->langchain_community<0.3.0) (6.1.0)\n",
      "Requirement already satisfied: yarl<2.0,>=1.12.0 in /Users/fayvor/Dev/granite-legal-cookbook/.venv/lib/python3.10/site-packages (from aiohttp<4.0.0,>=3.8.3->langchain_community<0.3.0) (1.14.0)\n",
      "Requirement already satisfied: async-timeout<5.0,>=4.0 in /Users/fayvor/Dev/granite-legal-cookbook/.venv/lib/python3.10/site-packages (from aiohttp<4.0.0,>=3.8.3->langchain_community<0.3.0) (4.0.3)\n",
      "Requirement already satisfied: marshmallow<4.0.0,>=3.18.0 in /Users/fayvor/Dev/granite-legal-cookbook/.venv/lib/python3.10/site-packages (from dataclasses-json<0.7,>=0.5.7->langchain_community<0.3.0) (3.22.0)\n",
      "Requirement already satisfied: typing-inspect<1,>=0.4.0 in /Users/fayvor/Dev/granite-legal-cookbook/.venv/lib/python3.10/site-packages (from dataclasses-json<0.7,>=0.5.7->langchain_community<0.3.0) (0.9.0)\n",
      "Requirement already satisfied: anyio in /Users/fayvor/Dev/granite-legal-cookbook/.venv/lib/python3.10/site-packages (from httpx<1,>=0.21.0->replicate) (4.6.0)\n",
      "Requirement already satisfied: certifi in /Users/fayvor/Dev/granite-legal-cookbook/.venv/lib/python3.10/site-packages (from httpx<1,>=0.21.0->replicate) (2024.8.30)\n",
      "Requirement already satisfied: httpcore==1.* in /Users/fayvor/Dev/granite-legal-cookbook/.venv/lib/python3.10/site-packages (from httpx<1,>=0.21.0->replicate) (1.0.6)\n",
      "Requirement already satisfied: idna in /Users/fayvor/Dev/granite-legal-cookbook/.venv/lib/python3.10/site-packages (from httpx<1,>=0.21.0->replicate) (3.10)\n",
      "Requirement already satisfied: sniffio in /Users/fayvor/Dev/granite-legal-cookbook/.venv/lib/python3.10/site-packages (from httpx<1,>=0.21.0->replicate) (1.3.1)\n",
      "Requirement already satisfied: h11<0.15,>=0.13 in /Users/fayvor/Dev/granite-legal-cookbook/.venv/lib/python3.10/site-packages (from httpcore==1.*->httpx<1,>=0.21.0->replicate) (0.14.0)\n",
      "Requirement already satisfied: langchain-text-splitters<0.3.0,>=0.2.0 in /Users/fayvor/Dev/granite-legal-cookbook/.venv/lib/python3.10/site-packages (from langchain<0.3.0,>=0.2.16->langchain_community<0.3.0) (0.2.4)\n",
      "Requirement already satisfied: jsonpatch<2.0,>=1.33 in /Users/fayvor/Dev/granite-legal-cookbook/.venv/lib/python3.10/site-packages (from langchain-core<0.3.0,>=0.2.39->langchain_community<0.3.0) (1.33)\n",
      "Requirement already satisfied: orjson<4.0.0,>=3.9.14 in /Users/fayvor/Dev/granite-legal-cookbook/.venv/lib/python3.10/site-packages (from langsmith<0.2.0,>=0.1.112->langchain_community<0.3.0) (3.10.7)\n",
      "Requirement already satisfied: requests-toolbelt<2.0.0,>=1.0.0 in /Users/fayvor/Dev/granite-legal-cookbook/.venv/lib/python3.10/site-packages (from langsmith<0.2.0,>=0.1.112->langchain_community<0.3.0) (1.0.0)\n",
      "Requirement already satisfied: annotated-types>=0.6.0 in /Users/fayvor/Dev/granite-legal-cookbook/.venv/lib/python3.10/site-packages (from pydantic>1.10.7->replicate) (0.7.0)\n",
      "Requirement already satisfied: pydantic-core==2.23.4 in /Users/fayvor/Dev/granite-legal-cookbook/.venv/lib/python3.10/site-packages (from pydantic>1.10.7->replicate) (2.23.4)\n",
      "Requirement already satisfied: charset-normalizer<4,>=2 in /Users/fayvor/Dev/granite-legal-cookbook/.venv/lib/python3.10/site-packages (from requests<3,>=2->langchain_community<0.3.0) (3.4.0)\n",
      "Requirement already satisfied: urllib3<3,>=1.21.1 in /Users/fayvor/Dev/granite-legal-cookbook/.venv/lib/python3.10/site-packages (from requests<3,>=2->langchain_community<0.3.0) (2.1.0)\n",
      "Requirement already satisfied: greenlet!=0.4.17 in /Users/fayvor/Dev/granite-legal-cookbook/.venv/lib/python3.10/site-packages (from SQLAlchemy<3,>=1.4->langchain_community<0.3.0) (3.1.1)\n",
      "Requirement already satisfied: python-dateutil>=2.8.2 in /Users/fayvor/Dev/granite-legal-cookbook/.venv/lib/python3.10/site-packages (from pandas->datasets) (2.9.0.post0)\n",
      "Requirement already satisfied: tzdata>=2022.1 in /Users/fayvor/Dev/granite-legal-cookbook/.venv/lib/python3.10/site-packages (from pandas->datasets) (2024.2)\n",
      "Requirement already satisfied: jsonpointer>=1.9 in /Users/fayvor/Dev/granite-legal-cookbook/.venv/lib/python3.10/site-packages (from jsonpatch<2.0,>=1.33->langchain-core<0.3.0,>=0.2.39->langchain_community<0.3.0) (3.0.0)\n",
      "Requirement already satisfied: six>=1.5 in /Users/fayvor/Dev/granite-legal-cookbook/.venv/lib/python3.10/site-packages (from python-dateutil>=2.8.2->pandas->datasets) (1.16.0)\n",
      "Requirement already satisfied: mypy-extensions>=0.3.0 in /Users/fayvor/Dev/granite-legal-cookbook/.venv/lib/python3.10/site-packages (from typing-inspect<1,>=0.4.0->dataclasses-json<0.7,>=0.5.7->langchain_community<0.3.0) (1.0.0)\n",
      "Requirement already satisfied: propcache>=0.2.0 in /Users/fayvor/Dev/granite-legal-cookbook/.venv/lib/python3.10/site-packages (from yarl<2.0,>=1.12.0->aiohttp<4.0.0,>=3.8.3->langchain_community<0.3.0) (0.2.0)\n",
      "Requirement already satisfied: exceptiongroup>=1.0.2 in /Users/fayvor/Dev/granite-legal-cookbook/.venv/lib/python3.10/site-packages (from anyio->httpx<1,>=0.21.0->replicate) (1.2.2)\n",
      "Downloading neo4j-5.25.0-py3-none-any.whl (296 kB)\n",
      "Installing collected packages: neo4j\n",
      "Successfully installed neo4j-5.25.0\n",
      "\n",
      "\u001b[1m[\u001b[0m\u001b[34;49mnotice\u001b[0m\u001b[1;39;49m]\u001b[0m\u001b[39;49m A new release of pip is available: \u001b[0m\u001b[31;49m24.2\u001b[0m\u001b[39;49m -> \u001b[0m\u001b[32;49m24.3.1\u001b[0m\n",
      "\u001b[1m[\u001b[0m\u001b[34;49mnotice\u001b[0m\u001b[1;39;49m]\u001b[0m\u001b[39;49m To update, run: \u001b[0m\u001b[32;49mpip install --upgrade pip\u001b[0m\n"
     ]
    }
   ],
   "source": [
    "!pip install git+https://github.com/ibm-granite-community/utils \\\n",
    "    \"langchain_community<0.3.0\" \\\n",
    "    replicate \\\n",
    "    datasets \\\n",
    "    transformers \\\n",
    "    tiktoken \\\n",
    "    neo4j"
   ]
  },
  {
   "cell_type": "markdown",
   "metadata": {},
   "source": [
    "## Selecting System Components"
   ]
  },
  {
   "cell_type": "markdown",
   "metadata": {
    "jupyter": {
     "outputs_hidden": false
    },
    "pycharm": {
     "name": "#%% md\n"
    }
   },
   "source": [
    "### Choose your LLM\n",
    "The LLM will be used for answering the question, given the retrieved text.\n",
    "\n",
    "Follow the instructions in [Getting Started with Replicate](https://github.com/ibm-granite-community/granite-kitchen/blob/cee1513c77429d7ddbf0e5a49b29b7bc9ca0d996/recipes/Getting_Started/Getting_Started_with_Replicate.ipynb), selecting a Granite Code model from the [`ibm-granite`](https://replicate.com/ibm-granite) org.\n",
    "\n",
    "To connect to a model on a provider other than Replicate, substitute this code cell with one from the [LLM component recipe](https://github.com/ibm-granite-community/granite-kitchen/blob/main/recipes/Components/Langchain_LLMs.ipynb)."
   ]
  },
  {
   "cell_type": "code",
   "execution_count": 3,
   "metadata": {},
   "outputs": [],
   "source": [
    "from langchain_community.llms import Replicate\n",
    "from ibm_granite_community.notebook_utils import set_env_var, get_env_var\n",
    "\n",
    "model = Replicate(\n",
    "    model=\"ibm-granite/granite-3.0-8b-instruct\",\n",
    "    replicate_api_token=get_env_var(\"REPLICATE_API_TOKEN\"),\n",
    ")"
   ]
  },
  {
   "cell_type": "markdown",
   "metadata": {},
   "source": [
    "## Get the tokenizer\n",
    "\n",
    "Retrieve the tokenizer used by your chosen LLM."
   ]
  },
  {
   "cell_type": "code",
   "execution_count": null,
   "metadata": {},
   "outputs": [],
   "source": [
    "from transformers import AutoTokenizer\n",
    "\n",
    "model_path = \"ibm-granite/granite-3.0-8b-instruct\"\n",
    "tokenizer = AutoTokenizer.from_pretrained(model_path)"
   ]
  },
  {
   "cell_type": "markdown",
   "metadata": {},
   "source": [
    "## Acquiring the Data\n",
    "\n",
    "We will use a New Hampshire case law dataset to help the model answer questions about NH laws."
   ]
  },
  {
   "cell_type": "markdown",
   "metadata": {},
   "source": [
    "### Download the documents\n",
    "\n",
    "Download the [New Hampshire CAP Caselaw](https://huggingface.co/datasets/free-law/nh) dataset from HuggingFace using the datasets library."
   ]
  },
  {
   "cell_type": "code",
   "execution_count": null,
   "metadata": {
    "jupyter": {
     "outputs_hidden": false
    },
    "pycharm": {
     "name": "#%%\n"
    }
   },
   "outputs": [],
   "source": [
    "from langchain.document_loaders import HuggingFaceDatasetLoader\n",
    "\n",
    "# Load the documents from the dataset\n",
    "loader = HuggingFaceDatasetLoader(\"free-law/nh\", page_content_column=\"text\")\n",
    "documents = loader.load()\n",
    "print(\"Document Count: \" + str(len(documents)))"
   ]
  },
  {
   "cell_type": "markdown",
   "metadata": {},
   "source": [
    "### Add metadata to the documents\n",
    "\n",
    "Add the `source` field, which is used below, to the metadata."
   ]
  },
  {
   "cell_type": "code",
   "execution_count": null,
   "metadata": {},
   "outputs": [],
   "source": [
    "for doc in documents:\n",
    "    doc.metadata['source'] = doc.metadata['id']"
   ]
  },
  {
   "cell_type": "markdown",
   "metadata": {},
   "source": [
    "### Inspect the documents"
   ]
  },
  {
   "cell_type": "code",
   "execution_count": null,
   "metadata": {},
   "outputs": [],
   "source": [
    "for doc in documents[:1]:\n",
    "    print(doc.metadata, \"\\n\")\n",
    "    print(doc.page_content, \"\\n\")"
   ]
  },
  {
   "cell_type": "markdown",
   "metadata": {},
   "source": [
    "## Building the Document Database\n",
    "\n",
    "We'll use the caselaw document database to retrieve the full text of the cases by case id."
   ]
  },
  {
   "cell_type": "markdown",
   "metadata": {},
   "source": [
    "### Create the database file and document table"
   ]
  },
  {
   "cell_type": "code",
   "execution_count": null,
   "metadata": {},
   "outputs": [],
   "source": [
    "# # put the json objects in a sqlite database, keyed by id\n",
    "# import sqlite3, os, json\n",
    "\n",
    "# # remove database file if exists\n",
    "# if os.path.isfile('data.db'):\n",
    "#     os.remove('data.db')\n",
    "\n",
    "# conn = sqlite3.connect('data.db')\n",
    "# c = conn.cursor()\n",
    "\n",
    "# # create the table if it doesn't exist. include id, text, and size\n",
    "# c.execute('''CREATE TABLE IF NOT EXISTS data\n",
    "#              (id INTEGER PRIMARY KEY UNIQUE,\n",
    "#               metadata TEXT,\n",
    "#               text TEXT,\n",
    "#               char_count INTEGER)''')\n"
   ]
  },
  {
   "cell_type": "markdown",
   "metadata": {},
   "source": [
    "### Insert the documents into the table"
   ]
  },
  {
   "cell_type": "code",
   "execution_count": null,
   "metadata": {},
   "outputs": [],
   "source": [
    "# for doc in documents:\n",
    "#     id = doc.metadata[\"id\"]\n",
    "#     c.execute(\"INSERT INTO data (id, metadata, text, char_count) VALUES (?,?,?,?)\", (id, json.dumps(doc.metadata), doc.page_content, doc.metadata[\"char_count\"]))\n",
    "#     conn.commit()"
   ]
  },
  {
   "cell_type": "markdown",
   "metadata": {},
   "source": [
    "### Count the documents"
   ]
  },
  {
   "cell_type": "code",
   "execution_count": null,
   "metadata": {},
   "outputs": [],
   "source": [
    "# c.execute(\"SELECT count(*) FROM data\")\n",
    "# doc_count = c.fetchone()[0]\n",
    "# print(f\"Document count: {doc_count}\")"
   ]
  },
  {
   "cell_type": "markdown",
   "metadata": {
    "jupyter": {
     "outputs_hidden": false
    },
    "pycharm": {
     "name": "#%% md\n"
    }
   },
   "source": [
    "## Extracting the entities\n",
    "\n",
    "In this example, we take the caselaw text, split it into chunks, and extract entities from each chunk. "
   ]
  },
  {
   "cell_type": "markdown",
   "metadata": {},
   "source": [
    "### Split the document into chunks\n",
    "\n",
    "Split the document into text segments that can fit into the model's context window."
   ]
  },
  {
   "cell_type": "code",
   "execution_count": null,
   "metadata": {
    "jupyter": {
     "outputs_hidden": false
    },
    "pycharm": {
     "name": "#%%\n"
    }
   },
   "outputs": [],
   "source": [
    "from langchain.text_splitter import TokenTextSplitter\n",
    "\n",
    "# Split the documents into chunks\n",
    "text_splitter = TokenTextSplitter(chunk_size=1000, chunk_overlap=10)\n",
    "chunks = text_splitter.split_documents(documents[:1])\n",
    "print(\"Chunk Count: \" + str(len(chunks)))"
   ]
  },
  {
   "cell_type": "markdown",
   "metadata": {},
   "source": [
    "### Inspect the chunks"
   ]
  },
  {
   "cell_type": "code",
   "execution_count": null,
   "metadata": {},
   "outputs": [],
   "source": [
    "import json\n",
    "for i in range(1):\n",
    "    print(chunks[i].page_content)\n",
    "    print(json.dumps(chunks[i].metadata, indent=4))"
   ]
  },
  {
   "cell_type": "markdown",
   "metadata": {},
   "source": [
    "# Provide taxonomy of entities\n",
    "\n",
    "An LLM may produce this with the prompt:\n",
    "\n",
    "```\n",
    "I am building a knowledge graph from legal case law. What are the entities I should extract for this knowledge graph?\n",
    "Prefix the major categories with numbers, and the minor categories with letters.\n",
    "```"
   ]
  },
  {
   "cell_type": "code",
   "execution_count": 32,
   "metadata": {},
   "outputs": [],
   "source": [
    "query = \"\"\"\n",
    "Here are the categories of entity I want you to consider:\n",
    "\n",
    "1. Case Information:\n",
    "A. Case Name (e.g., \"Brown v. Board of Education\")\n",
    "B. Docket Number (unique case identifier)\n",
    "C. Court (e.g., Supreme Court, District Court)\n",
    "D. Jurisdiction (state or federal jurisdiction, e.g., California, United States)\n",
    "2. Legal Parties:\n",
    "A. Plaintiff/Petitioner (the party initiating the case)\n",
    "B. Defendant/Respondent (the party responding to the case)\n",
    "C. Appellant/Appellee (for appeals)\n",
    "3. Attorneys:\n",
    "A. Counsel for Plaintiff/Petitioner (name, law firm, or organization)\n",
    "B. Counsel for Defendant/Respondent (name, law firm, or organization)\n",
    "4. Judges:\n",
    "A. Judge(s)/Justice(s) (name and role: trial judge, appellate judge, presiding justice)\n",
    "B. Panel Composition (for appellate cases, listing judges involved)\n",
    "5. Legal Issues:\n",
    "A. Legal Questions (the issues or questions of law presented to the court)\n",
    "B. Claims (the specific claims or complaints raised by the plaintiff)\n",
    "6. Legal Doctrines and Principles:\n",
    "A. Statutes/Acts (e.g., \"Civil Rights Act of 1964\")\n",
    "B. Precedents Cited (previous case law referred to)\n",
    "C. Constitutional Provisions (e.g., \"First Amendment,\" \"Article III\")\n",
    "7. Facts and Context:\n",
    "A. Material Facts (key facts on which the case is based)\n",
    "B. Timeline (sequence of events leading up to and during the case)\n",
    "8. Case Outcome:\n",
    "A. Decision/Holding (the final judgment, such as \"Affirmed,\" \"Reversed\")\n",
    "B. Disposition (e.g., \"dismissed with prejudice,\" \"remanded\")\n",
    "C. Majority Opinion (summary or reasoning of the court's majority)\n",
    "D. Concurring Opinion (opinion agreeing with the majority but for different reasons)\n",
    "E. Dissenting Opinion (opinion disagreeing with the majority decision)\n",
    "9. Procedural History:\n",
    "A. Lower Court Rulings (previous decisions that led to the current case)\n",
    "B. Appeals (sequence of appeals, appellate court involvement)\n",
    "10. Relationships Between Entities:\n",
    "A. Case Citation Relationship (e.g., \"Case A cited Case B\")\n",
    "B. Statute Application (e.g., \"Statute X was applied in Case Y\")\n",
    "C. Fact Relationships (linking individuals or events to legal consequences)\n",
    "11. Court Documents:\n",
    "A. Pleadings (complaints, answers, motions)\n",
    "B. Briefs (e.g., appellate briefs, amicus briefs)\n",
    "C. Orders (e.g., summary judgment, dismissal orders)\n",
    "12. Dates:\n",
    "A. Date of Filing (date the case was initiated)\n",
    "B. Date of Decision (date the judgment was rendered)\n",
    "C. Hearing Dates (important hearings or oral argument dates)\n",
    "13. Legal Outcomes:\n",
    "A. Remedies (e.g., \"compensatory damages,\" \"injunctive relief\")\n",
    "B. Sentences (in criminal cases, e.g., \"5 years imprisonment\")\n",
    "14. Legal Concepts:\n",
    "A. Standards of Review (e.g., \"de novo,\" \"abuse of discretion\")\n",
    "B. Burden of Proof (e.g., \"preponderance of the evidence,\" \"beyond a reasonable doubt\")\n",
    "\"\"\"\n"
   ]
  },
  {
   "cell_type": "code",
   "execution_count": null,
   "metadata": {},
   "outputs": [],
   "source": [
    "\n",
    "query = \"\"\"\n",
    "Case Name: The official name of the case (e.g., \"Brown v. Board of Education\").\n",
    "Docket Number: The unique case identifier assigned to the case.\n",
    "Court: The court where the case was heard (e.g., Supreme Court, District Court).\n",
    "Jurisdiction: The jurisdiction under which the case falls (e.g., state or federal jurisdiction, like California, United States).\n",
    "Plaintiff/Petitioner: The party initiating the case.\n",
    "Defendant/Respondent: The party responding to the case.\n",
    "Appellant/Appellee: The party appealing the decision and the party responding to the appeal, respectively.\n",
    "Counsel for Plaintiff/Petitioner: The attorney or law firm representing the plaintiff/petitioner.\n",
    "Counsel for Defendant/Respondent: The attorney or law firm representing the defendant/respondent.\n",
    "Judge/Justice: The name of the judge or justice involved in the case, including their role (e.g., trial judge, appellate judge, presiding justice).\n",
    "Panel Composition: The list of judges who heard the case (for appellate cases).\n",
    "Legal Question: The issue or question of law presented to the court.\n",
    "Claim: The specific claim or complaint raised by the plaintiff.\n",
    "Statute/Act: The statute or act referenced or applied in the case (e.g., \"Civil Rights Act of 1964\").\n",
    "Precedent Cited: Previous case law referred to in the case.\n",
    "Constitutional Provision: The constitutional article or amendment referenced in the case (e.g., \"First Amendment,\" \"Article III\").\n",
    "Material Fact: The key fact on which the case is based.\n",
    "Timeline: The sequence of events leading up to and during the case.\n",
    "Decision/Holding: The final judgment of the court (e.g., \"Affirmed,\" \"Reversed\").\n",
    "Disposition: The outcome of the case (e.g., \"dismissed with prejudice,\" \"remanded\").\n",
    "Majority Opinion: The reasoning and summary of the decision given by the majority of the judges.\n",
    "Concurring Opinion: An opinion that agrees with the majority's decision but for different reasons.\n",
    "Dissenting Opinion: An opinion that disagrees with the majority decision.\n",
    "Lower Court Ruling: A previous decision made by a lower court that led to the current case.\n",
    "Appeal: The process and sequence of taking the case to a higher court.\n",
    "Case Citation Relationship: A relationship indicating which case was cited by another case (e.g., \"Case A cited Case B\").\n",
    "Statute Application: How a particular statute or law was applied in the case (e.g., \"Statute X was applied in Case Y\").\n",
    "Fact Relationship: A relationship linking an individual or event to legal consequences within the case.\n",
    "Pleading: A document such as a complaint, answer, or motion filed during the case.\n",
    "Brief: A written document submitted by a party, including an appellate brief or amicus brief.\n",
    "Order: A court order related to the case (e.g., summary judgment, dismissal order).\n",
    "Date of Filing: The date when the case was initiated.\n",
    "Date of Decision: The date on which the final decision was rendered.\n",
    "Hearing Date: An important date for a hearing or oral argument in the case.\n",
    "Remedy: Type of compensation or relief provided (e.g., \"compensatory damages,\" \"injunctive relief\").\n",
    "Sentence: In a criminal case, the sentence handed down (e.g., \"5 years imprisonment\").\n",
    "Standard of Review: The standard used by the court in evaluating the case (e.g., \"de novo,\" \"abuse of discretion\").\n",
    "Burden of Proof: The level of proof required in the case (e.g., \"preponderance of the evidence,\" \"beyond a reasonable doubt\").\n",
    "\n",
    "\"\"\"\n"
   ]
  },
  {
   "cell_type": "markdown",
   "metadata": {},
   "source": [
    "## Extracting Entities"
   ]
  },
  {
   "cell_type": "markdown",
   "metadata": {},
   "source": [
    "### Provide a list of entity categories"
   ]
  },
  {
   "cell_type": "code",
   "execution_count": null,
   "metadata": {},
   "outputs": [],
   "source": [
    "\n",
    "query = \"\"\"\n",
    "Case Name: The official name of the case (e.g., \"Brown v. Board of Education\").\n",
    "Docket Number: The unique case identifier assigned to the case.\n",
    "Court: The court where the case was heard (e.g., Supreme Court, District Court).\n",
    "Jurisdiction: The jurisdiction under which the case falls (e.g., state or federal jurisdiction, like California, United States).\n",
    "Plaintiff/Petitioner: The party initiating the case.\n",
    "Defendant/Respondent: The party responding to the case.\n",
    "Appellant/Appellee: The party appealing the decision and the party responding to the appeal, respectively.\n",
    "Counsel for Plaintiff/Petitioner: The attorney or law firm representing the plaintiff/petitioner.\n",
    "Counsel for Defendant/Respondent: The attorney or law firm representing the defendant/respondent.\n",
    "Judge/Justice: The name of the judge or justice involved in the case, including their role (e.g., trial judge, appellate judge, presiding justice).\n",
    "Panel Composition: The list of judges who heard the case (for appellate cases).\n",
    "Legal Question: The issue or question of law presented to the court.\n",
    "Claim: The specific claim or complaint raised by the plaintiff.\n",
    "\n",
    "Given this list of entity categories, find the entities of interest in the following text. List each entity, its relationship to the case, and short description of that relationship, in a format like this:\n",
    "John A. Durkin; Defendant; The defendant in the case, against whom the plaintiff is seeking to invalidate an election.\n",
    "State of New Hampshire; Jurisdiction; The state where the case is being heard and where the election took place.\n",
    "Louis C. Wyman; Plaintiff; The plaintiff in the case, seeking to invalidate an election for United States Senator.\n",
    "\n",
    "Here is the text:\n",
    "\\n{}\"\"\"\n"
   ]
  },
  {
   "cell_type": "markdown",
   "metadata": {},
   "source": [
    "### Extract entities from each chunk of text"
   ]
  },
  {
   "cell_type": "code",
   "execution_count": 35,
   "metadata": {},
   "outputs": [
    {
     "name": "stdout",
     "output_type": "stream",
     "text": [
      "Chunk of 4439812\n",
      "2019 tokens\n",
      "1. Louis C. Wyman; Plaintiff; The plaintiff in the case, seeking to invalidate an election for United States Senator.\n",
      "2. John A. Durkin; Defendant; The defendant in the case, against whom the plaintiff is seeking to invalidate an election for United States Senator.\n",
      "3. State of New Hampshire; Jurisdiction; The state where the case is being heard and where the election took place.\n",
      "4. New Hampshire Supreme Court; Court; The court where the case was heard.\n",
      "5. United States; Jurisdiction; The jurisdiction under which the case falls, as the case involves an election for United States Senator.\n",
      "6. Robert L. Stark; Party; The Secretary of State of New Hampshire, who is a party in the case.\n",
      "7. Carmen Chimento; Party; The individual who is also a party in the case, although their specific role is not mentioned in the provided text.\n",
      "8. Stanley M. Brown, Dart S. Bigg, Eugene M. Van Loan III and David R. DePuy; Counsel for Plaintiff; The attorneys or law firm representing the plaintiff, Louis C. Wyman.\n",
      "9. Devine, Millimet, Stahl & Branch and Matthias J. Reynolds and William S. Gannon (Mr. Joseph A. Millimet); Counsel for Defendant; The attorneys or law firm representing the defendant, John A. Durkin.\n",
      "10. Thomas D. Rath, assistant attorney general; Counsel for Party; The attorney representing the Secretary of State of New Hampshire, Robert L. Stark.\n",
      "11. Richard W. Leonard; Counsel for Party; The attorney representing the individual who is also a party in the case, although their specific role is not mentioned in the provided text, Carmen Chimento.\n"
     ]
    }
   ],
   "source": [
    "responses = []\n",
    "for chunk in chunks[:1]:\n",
    "    print(f\"Chunk of {chunk.metadata['id']}\")\n",
    "    full_query = query.format(chunk)\n",
    "    print(str(len(tokenizer.tokenize(full_query))) + \" tokens\")\n",
    "    response = model.invoke(full_query, max_tokens=1000)\n",
    "    print(response)\n",
    "    responses.append(response)"
   ]
  },
  {
   "cell_type": "markdown",
   "metadata": {},
   "source": [
    "### Construct Graph Triples\n",
    "\n",
    "Using the extracted entities along with the text chunk, construct graph triples."
   ]
  },
  {
   "cell_type": "code",
   "execution_count": null,
   "metadata": {},
   "outputs": [],
   "source": [
    "query = \"\"\"\n",
    "List each entity named in these categories, along with a description of the entity:\n",
    "\n",
    "{entities}\n",
    "\"\"\"\n",
    "\n",
    "response = model.invoke(query.format(entities=responses[0]))\n",
    "print(response)"
   ]
  },
  {
   "cell_type": "markdown",
   "metadata": {},
   "source": [
    "## Building the Graph Database"
   ]
  },
  {
   "cell_type": "markdown",
   "metadata": {},
   "source": [
    "### Define methods"
   ]
  },
  {
   "cell_type": "code",
   "execution_count": 4,
   "metadata": {},
   "outputs": [
    {
     "name": "stderr",
     "output_type": "stream",
     "text": [
      "/var/folders/nc/jrql4k0n2j73h7xktzxdr4pr0000gn/T/ipykernel_89211/2092516218.py:28: DeprecationWarning: write_transaction has been renamed to execute_write\n",
      "  session.write_transaction(create_graph, entity1, relationship, entity2)\n"
     ]
    },
    {
     "name": "stdout",
     "output_type": "stream",
     "text": [
      "Nodes in the graph:\n",
      "Alice\n",
      "Bob\n",
      "Charlie\n",
      "London\n",
      "Paris\n",
      "\n",
      "Relationships in the graph:\n",
      "Alice -[KNOWS]-> Bob\n",
      "Bob -[WORKS_WITH]-> Charlie\n",
      "Alice -[LIVES_IN]-> London\n",
      "Charlie -[VISITED]-> Paris\n",
      "Graph successfully built and queried in Neo4j!\n"
     ]
    }
   ],
   "source": [
    "from neo4j import GraphDatabase\n",
    "\n",
    "# Define the list of (entity, relationship, entity) triples\n",
    "triples = [\n",
    "    (\"Alice\", \"KNOWS\", \"Bob\"),\n",
    "    (\"Bob\", \"WORKS_WITH\", \"Charlie\"),\n",
    "    (\"Alice\", \"LIVES_IN\", \"London\"),\n",
    "    (\"Charlie\", \"VISITED\", \"Paris\"),\n",
    "]\n",
    "\n",
    "# Connect to the Neo4j database\n",
    "uri = get_env_var(\"NEO4J_URI\")\n",
    "username = get_env_var(\"NEO4J_USERNAME\")\n",
    "password = get_env_var(\"NEO4J_PASSWORD\")\n",
    "driver = GraphDatabase.driver(uri, auth=(username, password))\n",
    "\n",
    "def create_graph(tx, entity1, relationship, entity2):\n",
    "    query = (\n",
    "        \"MERGE (a:Entity {name: $entity1}) \"\n",
    "        \"MERGE (b:Entity {name: $entity2}) \"\n",
    "        \"MERGE (a)-[r:%s]->(b)\"\n",
    "    ) % relationship\n",
    "    tx.run(query, entity1=entity1, entity2=entity2)\n",
    "\n",
    "def build_graph(triples):\n",
    "    with driver.session() as session:\n",
    "        for entity1, relationship, entity2 in triples:\n",
    "            session.write_transaction(create_graph, entity1, relationship, entity2)\n",
    "\n",
    "def query_graph():\n",
    "    with driver.session() as session:\n",
    "        # Query to find all nodes\n",
    "        result = session.run(\"MATCH (n) RETURN n.name AS name\")\n",
    "        print(\"Nodes in the graph:\")\n",
    "        for record in result:\n",
    "            print(record[\"name\"])\n",
    "\n",
    "        # Query to find all relationships\n",
    "        result = session.run(\"MATCH (a)-[r]->(b) RETURN a.name AS from, type(r) AS rel, b.name AS to\")\n",
    "        print(\"\\nRelationships in the graph:\")\n",
    "        for record in result:\n",
    "            print(f\"{record['from']} -[{record['rel']}]-> {record['to']}\")\n",
    "\n",
    "# Build the graph from the triples list\n",
    "build_graph(triples)\n",
    "\n",
    "# Issue some basic queries against the graph\n",
    "query_graph()\n",
    "\n",
    "# Close the connection to the database\n",
    "driver.close()\n",
    "\n",
    "print(\"Graph successfully built and queried in Neo4j!\")"
   ]
  }
 ],
 "metadata": {
  "kernelspec": {
   "display_name": ".venv",
   "language": "python",
   "name": "python3"
  },
  "language_info": {
   "codemirror_mode": {
    "name": "ipython",
    "version": 3
   },
   "file_extension": ".py",
   "mimetype": "text/x-python",
   "name": "python",
   "nbconvert_exporter": "python",
   "pygments_lexer": "ipython3",
   "version": "3.10.15"
  }
 },
 "nbformat": 4,
 "nbformat_minor": 4
}
