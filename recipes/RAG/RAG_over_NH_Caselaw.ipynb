{
 "cells": [
  {
   "attachments": {},
   "cell_type": "markdown",
   "metadata": {
    "pycharm": {
     "name": "#%% md\n"
    }
   },
   "source": [
    "# Retrieval Augmented Generation (RAG) using New Hampshire Case Law\n",
    "*With IBM Granite Models*\n",
    "\n",
    "The [New Hampshire Case Law Dataset](https://huggingface.co/datasets/free-law/nh) comes from the Caselaw Access Project via Hugging Face."
   ]
  },
  {
   "cell_type": "markdown",
   "metadata": {
    "jupyter": {
     "outputs_hidden": false
    },
    "pycharm": {
     "name": "#%% md\n"
    }
   },
   "source": [
    "## In this notebook\n",
    "This notebook contains instructions for performing Retrieval Augumented Generation (RAG). RAG is an architectural pattern that can be used to augment the performance of language models by recalling factual information from a knowledge base, and adding that information to the model query. The most common approach in RAG is to create dense vector representations of the knowledge base in order to retrieve text chunks that are semantically similar to a given user query.\n",
    "\n",
    "RAG use cases include:\n",
    "- Customer service: Answering questions about a product or service using facts from the product documentation.\n",
    "- Domain knowledge: Exploring a specialized domain (e.g., finance) using facts from papers or articles in the knowledge base.\n",
    "- News chat: Chatting about current events by calling up relevant recent news articles.\n",
    "\n",
    "In its simplest form, RAG requires 3 steps:\n",
    "\n",
    "- Initial setup:\n",
    "  - Index knowledge-base passages for efficient retrieval. In this recipe, we take embeddings of the passages using WatsonX, and store them in a vector database.\n",
    "- Upon each user query:\n",
    "  - Retrieve relevant passages from the database. In this recipe, we using an embedding of the query to retrieve semantically similar passages.\n",
    "  - Generate a response by feeding retrieved passage into a large language model, along with the user query."
   ]
  },
  {
   "cell_type": "markdown",
   "metadata": {},
   "source": [
    "## Prerequisites\n",
    "\n",
    "To get started, you'll need:\n",
    "* A [Replicate account](https://replicate.com/) and API token."
   ]
  },
  {
   "cell_type": "markdown",
   "metadata": {
    "jupyter": {
     "outputs_hidden": false
    },
    "pycharm": {
     "name": "#%% md\n"
    }
   },
   "source": [
    "## Setting up the environment"
   ]
  },
  {
   "cell_type": "markdown",
   "metadata": {
    "jupyter": {
     "outputs_hidden": false
    },
    "pycharm": {
     "name": "#%% md\n"
    }
   },
   "source": [
    "### Install dependencies\n",
    "\n",
    "Granite Kitchen comes with a bundle of dependencies that are required for notebooks. See the list of packages in its [`setup.py`](https://github.com/ibm-granite-community/granite-kitchen/blob/main/setup.py). "
   ]
  },
  {
   "cell_type": "code",
   "execution_count": null,
   "metadata": {
    "jupyter": {
     "outputs_hidden": false
    },
    "pycharm": {
     "name": "#%%\n"
    }
   },
   "outputs": [],
   "source": [
    "!pip install git+https://github.com/ibm-granite-community/granite-kitchen \\\n",
    "    datasets \\\n",
    "    langchain-huggingface \\\n",
    "    langchain-milvus"
   ]
  },
  {
   "cell_type": "markdown",
   "metadata": {},
   "source": [
    "## Selecting System Components"
   ]
  },
  {
   "cell_type": "markdown",
   "metadata": {},
   "source": [
    "### Choose your Embeddings Model"
   ]
  },
  {
   "cell_type": "markdown",
   "metadata": {},
   "source": [
    "Specify the model to use for generating embedding vectors from text.\n",
    "\n",
    "To use a model from a provider other than Huggingface, replace this code cell with one from [this Embeddings Model recipe](https://github.com/ibm-granite-community/utils/blob/main/recipes/Components/Langchain_Embeddings_Models.ipynb)."
   ]
  },
  {
   "cell_type": "code",
   "execution_count": null,
   "metadata": {},
   "outputs": [],
   "source": [
    "from langchain_huggingface import HuggingFaceEmbeddings\n",
    "\n",
    "embeddings_model = HuggingFaceEmbeddings(model_name=\"all-MiniLM-L6-v2\")"
   ]
  },
  {
   "cell_type": "markdown",
   "metadata": {},
   "source": [
    "### Choose your Vector Database\n",
    "\n",
    "Specify the database to use for storing and retrieving embedding vectors.\n",
    "\n",
    "To connect to a vector database other than Milvus, substitute this code cell with one from [this Vector Store recipe](https://github.com/ibm-granite-community/utils/blob/main/recipes/Components/Langchain_Vector_Stores.ipynb)."
   ]
  },
  {
   "cell_type": "code",
   "execution_count": null,
   "metadata": {},
   "outputs": [],
   "source": [
    "from langchain_milvus import Milvus\n",
    "import uuid\n",
    "\n",
    "db_file = f\"/tmp/milvus_{str(uuid.uuid4())[:8]}.db\"\n",
    "print(f\"The vector database will be saved to {db_file}\")\n",
    "\n",
    "vector_db = Milvus(embedding_function=embeddings_model, connection_args={\"uri\": db_file}, auto_id=True)"
   ]
  },
  {
   "cell_type": "markdown",
   "metadata": {
    "jupyter": {
     "outputs_hidden": false
    },
    "pycharm": {
     "name": "#%% md\n"
    }
   },
   "source": [
    "### Choose your LLM\n",
    "The LLM will be used for answering the question, given the retrieved text.\n",
    "\n",
    "Follow the instructions in [Getting Started with Replicate](https://github.com/ibm-granite-community/granite-kitchen/blob/cee1513c77429d7ddbf0e5a49b29b7bc9ca0d996/recipes/Getting_Started/Getting_Started_with_Replicate.ipynb), selecting a Granite Code model from the [`ibm-granite`](https://replicate.com/ibm-granite) org.\n",
    "\n",
    "To connect to a model on a provider other than Replicate, substitute this code cell with one from the [LLM component recipe](https://github.com/ibm-granite-community/granite-kitchen/blob/main/recipes/Components/Langchain_LLMs.ipynb)."
   ]
  },
  {
   "cell_type": "code",
   "execution_count": null,
   "metadata": {},
   "outputs": [],
   "source": [
    "from langchain_community.llms import Replicate\n",
    "from ibm_granite_community.notebook_utils import set_env_var\n",
    "\n",
    "set_env_var(\"REPLICATE_API_TOKEN\")\n",
    "\n",
    "model = Replicate(\n",
    "    model=\"ibm-granite/granite-8b-code-instruct-128k\",\n",
    ")"
   ]
  },
  {
   "cell_type": "markdown",
   "metadata": {},
   "source": [
    "## Acquiring the Data\n",
    "\n",
    "We will use a New Hampshire case law dataset to help the model answer questions about NH laws."
   ]
  },
  {
   "cell_type": "markdown",
   "metadata": {},
   "source": [
    "### Download the documents\n",
    "\n",
    "Download the [New Hampshire CAP Caselaw](https://huggingface.co/datasets/free-law/nh) dataset from HuggingFace using the datasets library."
   ]
  },
  {
   "cell_type": "code",
   "execution_count": null,
   "metadata": {
    "jupyter": {
     "outputs_hidden": false
    },
    "pycharm": {
     "name": "#%%\n"
    }
   },
   "outputs": [],
   "source": [
    "from langchain.document_loaders import HuggingFaceDatasetLoader\n",
    "\n",
    "# Load the documents from the dataset\n",
    "loader = HuggingFaceDatasetLoader(\"free-law/nh\", page_content_column=\"text\")\n",
    "documents = loader.load()\n",
    "print(\"Document Count: \" + str(len(documents)))"
   ]
  },
  {
   "cell_type": "markdown",
   "metadata": {},
   "source": [
    "### Add metadata to the documents\n",
    "\n",
    "Add the `source` field, which is used below, to the metadata."
   ]
  },
  {
   "cell_type": "code",
   "execution_count": null,
   "metadata": {},
   "outputs": [],
   "source": [
    "for doc in documents:\n",
    "    doc.metadata['source'] = doc.metadata['id']"
   ]
  },
  {
   "cell_type": "markdown",
   "metadata": {},
   "source": [
    "### Inspect the documents"
   ]
  },
  {
   "cell_type": "code",
   "execution_count": null,
   "metadata": {},
   "outputs": [],
   "source": [
    "for doc in documents[:1]:\n",
    "    print(doc.metadata, \"\\n\")\n",
    "    print(doc.page_content, \"\\n\")"
   ]
  },
  {
   "cell_type": "markdown",
   "metadata": {},
   "source": [
    "## Building the Document Database\n",
    "\n",
    "We'll use the caselaw document database to retrieve the full text of the cases by case id."
   ]
  },
  {
   "cell_type": "markdown",
   "metadata": {},
   "source": [
    "### Create the database file and document table"
   ]
  },
  {
   "cell_type": "code",
   "execution_count": null,
   "metadata": {},
   "outputs": [],
   "source": [
    "# put the json objects in a sqlite database, keyed by id\n",
    "import sqlite3, os, json\n",
    "\n",
    "# remove database file if exists\n",
    "if os.path.isfile('data.db'):\n",
    "    os.remove('data.db')\n",
    "\n",
    "conn = sqlite3.connect('data.db')\n",
    "c = conn.cursor()\n",
    "\n",
    "# create the table if it doesn't exist. include id, text, and size\n",
    "c.execute('''CREATE TABLE IF NOT EXISTS data\n",
    "             (id INTEGER PRIMARY KEY UNIQUE,\n",
    "              metadata TEXT,\n",
    "              text TEXT,\n",
    "              char_count INTEGER)''')\n"
   ]
  },
  {
   "cell_type": "markdown",
   "metadata": {},
   "source": [
    "### Insert the documents into the table"
   ]
  },
  {
   "cell_type": "code",
   "execution_count": null,
   "metadata": {},
   "outputs": [],
   "source": [
    "for doc in documents:\n",
    "    id = doc.metadata[\"id\"]\n",
    "    c.execute(\"INSERT INTO data (id, metadata, text, char_count) VALUES (?,?,?,?)\", (id, json.dumps(doc.metadata), doc.page_content, doc.metadata[\"char_count\"]))\n",
    "    conn.commit()"
   ]
  },
  {
   "cell_type": "markdown",
   "metadata": {},
   "source": [
    "### Count the documents"
   ]
  },
  {
   "cell_type": "code",
   "execution_count": null,
   "metadata": {},
   "outputs": [],
   "source": [
    "c.execute(\"SELECT count(*) FROM data\")\n",
    "doc_count = c.fetchone()[0]\n",
    "print(f\"Document count: {doc_count}\")"
   ]
  },
  {
   "cell_type": "markdown",
   "metadata": {
    "jupyter": {
     "outputs_hidden": false
    },
    "pycharm": {
     "name": "#%% md\n"
    }
   },
   "source": [
    "## Building the Vector Database\n",
    "\n",
    "In this example, we take the caselaw text, split it into chunks, derive embedding vectors using the embedding model, and load it into the vector database for querying."
   ]
  },
  {
   "cell_type": "markdown",
   "metadata": {},
   "source": [
    "### Split the document into chunks\n",
    "\n",
    "Split the document into text segments that can fit into the model's context window."
   ]
  },
  {
   "cell_type": "code",
   "execution_count": null,
   "metadata": {
    "jupyter": {
     "outputs_hidden": false
    },
    "pycharm": {
     "name": "#%%\n"
    }
   },
   "outputs": [],
   "source": [
    "from langchain.text_splitter import TokenTextSplitter\n",
    "\n",
    "# Split the documents into chunks\n",
    "text_splitter = TokenTextSplitter(chunk_size=1000, chunk_overlap=10)\n",
    "chunks = text_splitter.split_documents(documents)\n",
    "print(\"Chunk Count: \" + str(len(chunks)))"
   ]
  },
  {
   "cell_type": "markdown",
   "metadata": {},
   "source": [
    "### Inspect the chunks"
   ]
  },
  {
   "cell_type": "code",
   "execution_count": null,
   "metadata": {},
   "outputs": [],
   "source": [
    "import json\n",
    "for i in range(1):\n",
    "    print(chunks[i].page_content)\n",
    "    print(json.dumps(chunks[i].metadata, indent=4))"
   ]
  },
  {
   "cell_type": "markdown",
   "metadata": {
    "jupyter": {
     "outputs_hidden": false
    },
    "pycharm": {
     "name": "#%% md\n"
    }
   },
   "source": [
    "### Populate the vector database\n",
    "\n",
    "NOTE: Population of the vector database may take a few minutes depending on your embedding model and service."
   ]
  },
  {
   "cell_type": "code",
   "execution_count": null,
   "metadata": {},
   "outputs": [],
   "source": [
    "ids = vector_db.add_documents(chunks)\n",
    "print(\"Document IDs: \" + str(ids[:3]))"
   ]
  },
  {
   "cell_type": "markdown",
   "metadata": {},
   "source": [
    "## Querying the Databases"
   ]
  },
  {
   "cell_type": "markdown",
   "metadata": {},
   "source": [
    "### Create query text\n",
    "\n",
    "Here we use the text of a NH law to query into the vector database for relevant cases."
   ]
  },
  {
   "cell_type": "code",
   "execution_count": null,
   "metadata": {},
   "outputs": [],
   "source": [
    "# https://schoolsafetyresources.nh.gov/wp-content/uploads/2019/02/New-Hampshire-School-Discipline-Laws-and-Regulations.pdf\n",
    "# https://www.gencourt.state.nh.us/rsa/html/XV/193/193-13.htm\n",
    "law_id = \"193:13\"\n",
    "law_name = \"Suspension and Expulsion of Pupils.\"\n",
    "law_text = \"\"\"\n",
    "School Attendance\n",
    "Section 193:13\n",
    "    193:13 Suspension and Expulsion of Pupils. –\n",
    "I. (a) A superintendent or chartered public school director, or a representative designated in writing by the superintendent or chartered public school director, may suspend pupils from school for a period not to exceed 10 consecutive school days for:\n",
    "(1) Behavior that is detrimental to the health, safety, or welfare of pupils or school personnel; or\n",
    "(2) Repeated and willful disregard of the reasonable rules of the school that is not remediated through imposition of the district's graduated sanctions under paragraph X.\n",
    "(b) The school board or chartered public school board of trustees, or a representative designated in writing may, following a hearing, extend the suspension of a pupil up to 10 additional consecutive school days for an act that constitutes an act of theft, destruction, or violence as defined in RSA 193-D; bullying pursuant to school district policy when the pupil has not responded to targeted interventions and poses an ongoing threat to the safety or welfare of another student; or possession of a firearm, BB gun, or paintball gun. The school board's or board of trustee's designee may be the superintendent or any other individual, but may not be the individual who suspended the pupil for the first 10 days under subparagraph (a). Any suspension shall be valid throughout the school districts of the state, subject to modification by the superintendent of the school district or chartered public school in which the pupil seeks to enroll.\n",
    "(c) Any suspension in excess of 10 school days imposed under subparagraph (b) by any person other than the school board or board of trustees is appealable to the school board or board of trustees, provided that the superintendent, school board, or board of trustees received such appeal in writing within 10 days after the issuance of the decision being appealed. The school board or board of trustees shall hold a hearing on the appeal, but shall have discretion to hear evidence or to rely upon the record of a hearing conducted under subparagraph (b). The suspension under subparagraph (b) shall be enforced while that appeal is pending, unless the school board or board of trustees stays the suspension while the appeal is pending.\n",
    "II. Any pupil may be expelled from school by the local school board or board of trustees for an act that poses an ongoing threat to the safety of students or school personnel and that constitutes:\n",
    "(a) A repeated act under subparagraph I(b);\n",
    "(b) Any act of physical or sexual assault that would be a felony if committed by an adult;\n",
    "(c) Any act of violence pursuant to RSA 651:5, XIII; or\n",
    "(d) Criminal threatening pursuant to RSA 631:4, II(a).\n",
    "III. A pupil who has been expelled shall not attend school until reinstated by the local board or chartered public school board of trustees.\n",
    "III-a. Before expelling a pupil under this section the local school board or chartered public school board of trustees shall consider each of the following factors:\n",
    "(a) The pupil's age.\n",
    "(b) The pupil's disciplinary history.\n",
    "(c) Whether the pupil is a student with a disability.\n",
    "(d) The seriousness of the violation or behavior committed by the pupil.\n",
    "(e) Whether the school district or chartered public school has implemented positive behavioral interventions under paragraph V.\n",
    "(f) Whether a lesser intervention would properly address the violation or behavior committed by the pupil.\n",
    "III-b. Any expulsion shall be subject to review by the pupil's school board of attendance or the board of trustees of the chartered public school's board that issued the expulsion if requested prior to the start of each school year and further, any parent or guardian has the right to appeal any such expulsion by the local board or board of trustees to the state board of education at any time while the expulsion remains in effect. All appeals of final action by the state board of education shall be in accordance with RSA 541.\n",
    "III-c. Any expulsion shall be valid throughout the school districts of the state. However, upon application by the pupil, any school district or chartered public school may choose to admit an expelled pupil at the school district or chartered public school's sole discretion. The decision by a chartered public school or superintendent to accept a pupil under this paragraph shall not be binding upon any other school district or chartered public school until the pupil is reinstated by the pupil's local school board or chartered public school board of trustees.\n",
    "IV. Any pupil who brings or possesses a firearm as defined in section 921 of Title 18 of the United States Code in a safe school zone as defined in RSA 193-D:1 without written authorization from the superintendent or designee shall be expelled from school by the local school board for a period of not less than 12 months. Nothing in this section shall be construed to prevent the local school district or chartered public school that expelled the student from providing educational services to such student in an alternative setting.\n",
    "V. School districts and chartered public schools shall make educational assignments available to the suspended pupil during periods of suspension. Except as provided in paragraphs II and IV, a school district or chartered public school shall provide alternative educational services to a suspended pupil whenever the pupil is suspended in excess of 20 cumulative days within any school year. The alternative educational services shall be designed to enable a pupil to advance from grade to grade. Any time a pupil is suspended more than 10 school days in any school year, upon the pupil's return to school the school district shall develop an intervention plan designed to proactively address the pupil's problematic behaviors. No pupil shall be penalized academically solely by virtue of missing class due to suspension.\n",
    "VI. A pupil expelled from school in another state under the provisions of the Gun-Free Schools Act of 1994 shall not be eligible to enroll in a school district in New Hampshire for the period of such expulsion. If the out-of-state expulsion is for an indefinite period of time, such pupil or the pupil's parent or guardian shall have the right to petition the pupil's local school board for enrollment upon establishing residency. If the pupil is denied enrollment, the pupil's expulsion shall be subject to review pursuant to paragraph III-b.\n",
    "VII. The local school board or chartered public school shall adopt a policy which allows the superintendent or charter public school director to modify the expulsion and enrollment requirements under paragraphs IV and VI on a case by case basis.\n",
    "VIII. For purposes of paragraphs I, II, III, and IV school board may be either the school board or a subcommittee of the board duly authorized by the school board.\n",
    "IX. Nothing in this section shall prevent the superintendent of the pupil's local school district or chartered public school director from reinstating a suspended or expelled pupil.\n",
    "X. The provisions of this section shall be construed in a manner consistent with RSA 186-C.\n",
    "XI. School boards and chartered public schools shall establish policies on school discipline that contain a system of supports and consequences designed to correct student misconduct and promote behavior within acceptable norms. Such policies shall:\n",
    "(a) Include a graduated set of age appropriate responses to misconduct that may include, but are not limited to, parent conferences, counseling, peer mediation, instruction in conflict resolution and anger management, parent counseling and training, community service, rearranging class schedules, restriction from extra curricular activities, detention, in-school supports and consequences, out-of-school suspension, and expulsion.\n",
    "(b) Set forth standards for short term suspensions up to 5 days, short term suspensions up to 10 days, long term suspensions up to 20 days, and expulsion. Such standards shall make reference to the nature and degree of disruption caused to the school environment, the threat to the health and safety of pupils and school personnel, and the isolated or repeated nature of incidents forming the basis of disciplinary action.\n",
    "XII. Each school district and chartered public school shall make its policy on school discipline:\n",
    "(a) Available to parents at the beginning of each school year;\n",
    "(b) Publicly available on the district, school administrative unit, or chartered public school website and in the student handbook; and\n",
    "(c) Available to parents via a manner designed to ensure parental notification if the school district, school administrative unit, or chartered public school does not maintain a website and/or student handbook.\"\"\""
   ]
  },
  {
   "cell_type": "markdown",
   "metadata": {},
   "source": [
    "### Query the vector database\n",
    "\n",
    "Query the vector database for cases related to the law. Similar documents are found by proximity of the embedded vector in vector space."
   ]
  },
  {
   "cell_type": "code",
   "execution_count": null,
   "metadata": {},
   "outputs": [],
   "source": [
    "k = 10  # the number of docs to retrieve\n",
    "docs_with_score = vector_db.similarity_search_with_score(law_text, k=k)\n",
    "\n",
    "# Get a unique set of docs.\n",
    "docs = []\n",
    "doc_ids = {}\n",
    "for doc, score in docs_with_score:\n",
    "    # print(doc.metadata[\"name_abbreviation\"])\n",
    "    # print(score)\n",
    "    id = doc.metadata[\"id\"]\n",
    "    if id not in doc_ids:\n",
    "        docs.append(doc)\n",
    "        print(id)\n",
    "        print(doc.metadata[\"name_abbreviation\"])\n",
    "        doc_ids[id] = 1"
   ]
  },
  {
   "cell_type": "markdown",
   "metadata": {},
   "source": [
    "### Query the document database\n",
    "\n",
    "Get the full text of the first case found by the vector search."
   ]
  },
  {
   "cell_type": "code",
   "execution_count": null,
   "metadata": {},
   "outputs": [],
   "source": [
    "case_id = docs[0].metadata[\"id\"]\n",
    "case_short_name = docs[0].metadata[\"name_abbreviation\"]\n",
    "print(f\"Case Id: {case_id}\")\n",
    "print(f\"Case Name: {case_short_name}\")\n",
    "\n",
    "c.execute(\"SELECT text FROM data where id = ?\", (case_id,))\n",
    "case_text = c.fetchone()[0]\n",
    "print(f\"Case Text Length: {len(case_text)} chars\")"
   ]
  },
  {
   "cell_type": "markdown",
   "metadata": {},
   "source": [
    "## Answering Questions"
   ]
  },
  {
   "cell_type": "markdown",
   "metadata": {},
   "source": [
    "### Assemble the Chat Prompt\n",
    "\n",
    "Build a chat prompt template with the law and the retrieved case."
   ]
  },
  {
   "cell_type": "code",
   "execution_count": null,
   "metadata": {},
   "outputs": [],
   "source": [
    "from langchain_core.prompts import ChatPromptTemplate\n",
    "from langchain_core.output_parsers import StrOutputParser\n",
    "\n",
    "system_prompt = (\n",
    "    \"You are an assistant for question-answering tasks. \"\n",
    "    f\"Below is the text of NH law '{law_id}', followed by a related NH court case. \"\n",
    "    f\"Use only the NH court case to answer the question. \"\n",
    "    \"If you can't answer the question with these court case, say that you don't know.\"\n",
    "    \"\\n\\n\"\n",
    "    \"Here is the text of the law:\\n\"\n",
    "    f\"{law_text}\"\n",
    "    \"\\n\\n\"\n",
    "    f\"Here is the related NH court case:\\n\"\n",
    "    f\"{case_text}\"\n",
    ")\n",
    "\n",
    "rag_prompt = ChatPromptTemplate.from_messages(\n",
    "    [\n",
    "        (\"system\", system_prompt),\n",
    "        (\"human\", \"{input}\"),\n",
    "    ]\n",
    ")\n",
    "\n",
    "rag_chain = (\n",
    "    rag_prompt\n",
    "    | model\n",
    "    | StrOutputParser()\n",
    ")"
   ]
  },
  {
   "cell_type": "markdown",
   "metadata": {},
   "source": [
    "### Ask questions of the retrieved case in relation to the law.\n",
    "\n",
    "First summarize the case."
   ]
  },
  {
   "cell_type": "code",
   "execution_count": null,
   "metadata": {},
   "outputs": [],
   "source": [
    "query = f\"Summarize the NH court case according to the IRAC framework (Issue, Rule, Application, Conclusion).\"\n",
    "\n",
    "response = rag_chain.invoke(input = query)\n",
    "print(response)"
   ]
  },
  {
   "cell_type": "markdown",
   "metadata": {},
   "source": [
    "Next, discuss how the law was applied to the case."
   ]
  },
  {
   "cell_type": "code",
   "execution_count": null,
   "metadata": {},
   "outputs": [],
   "source": [
    "query = \"How was NH law 193:13 applied to this case?\"\n",
    "response = rag_chain.invoke(query)\n",
    "print(response)"
   ]
  },
  {
   "cell_type": "code",
   "execution_count": null,
   "metadata": {},
   "outputs": [],
   "source": [
    "query = \"What were the facts presented in the case and how are they relevant to the law?\"\n",
    "response = rag_chain.invoke(query)\n",
    "print(response)"
   ]
  }
 ],
 "metadata": {
  "kernelspec": {
   "display_name": ".venv",
   "language": "python",
   "name": "python3"
  },
  "language_info": {
   "codemirror_mode": {
    "name": "ipython",
    "version": 3
   },
   "file_extension": ".py",
   "mimetype": "text/x-python",
   "name": "python",
   "nbconvert_exporter": "python",
   "pygments_lexer": "ipython3",
   "version": "3.10.15"
  }
 },
 "nbformat": 4,
 "nbformat_minor": 4
}
